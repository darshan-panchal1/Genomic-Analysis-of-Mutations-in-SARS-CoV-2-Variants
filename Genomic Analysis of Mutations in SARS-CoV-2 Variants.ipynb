{
 "cells": [
  {
   "cell_type": "markdown",
   "id": "4951fcd3",
   "metadata": {},
   "source": [
    "# A Comparative Study between Wuhan-Hu-1 and Delta-1/2021 Strains"
   ]
  },
  {
   "cell_type": "markdown",
   "id": "e42701a6",
   "metadata": {},
   "source": [
    "## Problem statement\n",
    "\n",
    "RNA plays a fundamental role in the virus's genetic material and replication. The coronavirus, including SARS-CoV-2, the virus responsible for COVID-19, is an RNA virus. Its genetic information is stored in the form of single-stranded RNA rather than DNA.\n",
    "\n",
    "The viral RNA of the coronavirus serves as a template for the synthesis of viral proteins. When the virus infects a host cell, it hijacks the cellular machinery to replicate its RNA and produce new viral particles. The viral RNA also acts as messenger RNA (mRNA) for the synthesis of viral proteins, facilitating the assembly of new virus particles.\n",
    "\n",
    "Understanding the specific RNA sequences of the virus is crucial. The RNA sequence provides the genetic code that dictates the structure and function of viral proteins. Changes or mutations in the RNA sequence can significantly impact the virus's behavior, transmissibility, and ability to evade the host's immune response.\n",
    "\n",
    "Monitoring and analyzing RNA sequences from different strains of the virus help researchers track the evolution of the virus and identify emerging variants. Changes in the RNA sequence, particularly in regions associated with the virus's spike protein, may influence its interaction with host cells and the effectiveness of vaccines.\n",
    "\n",
    "Therefore, in this project i did study on the RNA sequence of the corona virus and detecting variations which is essential for developing targeted interventions, including vaccines and treatments. It allows scientists to stay ahead of the virus's evolution, understand its behavior, and adapt strategies to control its spread and mitigate the impact on public health."
   ]
  },
  {
   "cell_type": "markdown",
   "id": "8653b151",
   "metadata": {},
   "source": [
    "<figure>\n",
    " <img src=\"rna_image.jpg\"   style=\"width:400px;height:300px;\">\n",
    "</figure>\n",
    "\n",
    "                                                 image source: cleveland clinic (2020)"
   ]
  },
  {
   "cell_type": "code",
   "execution_count": 1,
   "id": "73578048",
   "metadata": {},
   "outputs": [],
   "source": [
    "import pandas as pd\n",
    "import numpy as np\n",
    "import matplotlib.pyplot as plt\n",
    "import seaborn as sns\n",
    "import warnings\n",
    "warnings.filterwarnings('ignore')"
   ]
  },
  {
   "cell_type": "markdown",
   "id": "25925d12",
   "metadata": {},
   "source": [
    "The dataset of coronavirus variants was downloaded from the NCBI website"
   ]
  },
  {
   "cell_type": "code",
   "execution_count": 2,
   "id": "d0f0d0bd",
   "metadata": {},
   "outputs": [],
   "source": [
    "df = pd.read_csv(\"ncbi_datasets.csv\",low_memory=False)"
   ]
  },
  {
   "cell_type": "code",
   "execution_count": 3,
   "id": "dfc98719",
   "metadata": {
    "scrolled": true
   },
   "outputs": [
    {
     "data": {
      "text/html": [
       "<div>\n",
       "<style scoped>\n",
       "    .dataframe tbody tr th:only-of-type {\n",
       "        vertical-align: middle;\n",
       "    }\n",
       "\n",
       "    .dataframe tbody tr th {\n",
       "        vertical-align: top;\n",
       "    }\n",
       "\n",
       "    .dataframe thead th {\n",
       "        text-align: right;\n",
       "    }\n",
       "</style>\n",
       "<table border=\"1\" class=\"dataframe\">\n",
       "  <thead>\n",
       "    <tr style=\"text-align: right;\">\n",
       "      <th></th>\n",
       "      <th>Nucleotide Accession</th>\n",
       "      <th>Species Taxonomy Id</th>\n",
       "      <th>Species Name</th>\n",
       "      <th>Virus Genus</th>\n",
       "      <th>Virus Family</th>\n",
       "      <th>Isolate Name</th>\n",
       "      <th>Nucleotide Length</th>\n",
       "      <th>Sequence Type</th>\n",
       "      <th>Nuc Completeness</th>\n",
       "      <th>Geo Location</th>\n",
       "      <th>US State</th>\n",
       "      <th>Host Name</th>\n",
       "      <th>Host Taxonomy ID</th>\n",
       "      <th>Collection Date</th>\n",
       "      <th>BioProject</th>\n",
       "      <th>BioSample</th>\n",
       "    </tr>\n",
       "  </thead>\n",
       "  <tbody>\n",
       "    <tr>\n",
       "      <th>0</th>\n",
       "      <td>NC_045512.2</td>\n",
       "      <td>2697049</td>\n",
       "      <td>Severe acute respiratory syndrome coronavirus 2</td>\n",
       "      <td>Betacoronavirus</td>\n",
       "      <td>Coronaviridae</td>\n",
       "      <td>Wuhan-Hu-1</td>\n",
       "      <td>29903</td>\n",
       "      <td>RefSeq</td>\n",
       "      <td>complete</td>\n",
       "      <td>Asia; China</td>\n",
       "      <td>NaN</td>\n",
       "      <td>NaN</td>\n",
       "      <td>9606</td>\n",
       "      <td>2019-12</td>\n",
       "      <td>PRJNA485481</td>\n",
       "      <td>NaN</td>\n",
       "    </tr>\n",
       "    <tr>\n",
       "      <th>1</th>\n",
       "      <td>OM487257.1</td>\n",
       "      <td>2697049</td>\n",
       "      <td>Severe acute respiratory syndrome coronavirus 2</td>\n",
       "      <td>Betacoronavirus</td>\n",
       "      <td>Coronaviridae</td>\n",
       "      <td>SARS-CoV-2/human/USA/UT-UPHL-220129247957/2021</td>\n",
       "      <td>29815</td>\n",
       "      <td>GenBank</td>\n",
       "      <td>complete</td>\n",
       "      <td>North America; USA</td>\n",
       "      <td>NaN</td>\n",
       "      <td>NaN</td>\n",
       "      <td>9606</td>\n",
       "      <td>2021-12-23</td>\n",
       "      <td>PRJNA614995</td>\n",
       "      <td>SAMN25559487</td>\n",
       "    </tr>\n",
       "    <tr>\n",
       "      <th>2</th>\n",
       "      <td>OM403304.1</td>\n",
       "      <td>2697049</td>\n",
       "      <td>Severe acute respiratory syndrome coronavirus 2</td>\n",
       "      <td>Betacoronavirus</td>\n",
       "      <td>Coronaviridae</td>\n",
       "      <td>SARS-CoV-2/human/HKG/VM20001061-2/2020</td>\n",
       "      <td>29870</td>\n",
       "      <td>GenBank</td>\n",
       "      <td>complete</td>\n",
       "      <td>Asia; Hong Kong</td>\n",
       "      <td>NaN</td>\n",
       "      <td>NaN</td>\n",
       "      <td>9606</td>\n",
       "      <td>2020-01-23</td>\n",
       "      <td>NaN</td>\n",
       "      <td>NaN</td>\n",
       "    </tr>\n",
       "    <tr>\n",
       "      <th>3</th>\n",
       "      <td>OM403303.1</td>\n",
       "      <td>2697049</td>\n",
       "      <td>Severe acute respiratory syndrome coronavirus 2</td>\n",
       "      <td>Betacoronavirus</td>\n",
       "      <td>Coronaviridae</td>\n",
       "      <td>SARS-CoV-2/human/HKG/Original/2020</td>\n",
       "      <td>29851</td>\n",
       "      <td>GenBank</td>\n",
       "      <td>complete</td>\n",
       "      <td>Asia; Hong Kong</td>\n",
       "      <td>NaN</td>\n",
       "      <td>NaN</td>\n",
       "      <td>9606</td>\n",
       "      <td>2020-01-23</td>\n",
       "      <td>NaN</td>\n",
       "      <td>NaN</td>\n",
       "    </tr>\n",
       "    <tr>\n",
       "      <th>4</th>\n",
       "      <td>OM401120.1</td>\n",
       "      <td>2697049</td>\n",
       "      <td>Severe acute respiratory syndrome coronavirus 2</td>\n",
       "      <td>Betacoronavirus</td>\n",
       "      <td>Coronaviridae</td>\n",
       "      <td>SARS-CoV-2/human/USA/UT-UPHL-211112790633/2021</td>\n",
       "      <td>29712</td>\n",
       "      <td>GenBank</td>\n",
       "      <td>complete</td>\n",
       "      <td>North America; USA</td>\n",
       "      <td>NaN</td>\n",
       "      <td>NaN</td>\n",
       "      <td>9606</td>\n",
       "      <td>2021-09-25</td>\n",
       "      <td>PRJNA614995</td>\n",
       "      <td>SAMN23427251</td>\n",
       "    </tr>\n",
       "  </tbody>\n",
       "</table>\n",
       "</div>"
      ],
      "text/plain": [
       "  Nucleotide Accession  Species Taxonomy Id  \\\n",
       "0          NC_045512.2              2697049   \n",
       "1           OM487257.1              2697049   \n",
       "2           OM403304.1              2697049   \n",
       "3           OM403303.1              2697049   \n",
       "4           OM401120.1              2697049   \n",
       "\n",
       "                                      Species Name      Virus Genus  \\\n",
       "0  Severe acute respiratory syndrome coronavirus 2  Betacoronavirus   \n",
       "1  Severe acute respiratory syndrome coronavirus 2  Betacoronavirus   \n",
       "2  Severe acute respiratory syndrome coronavirus 2  Betacoronavirus   \n",
       "3  Severe acute respiratory syndrome coronavirus 2  Betacoronavirus   \n",
       "4  Severe acute respiratory syndrome coronavirus 2  Betacoronavirus   \n",
       "\n",
       "    Virus Family                                    Isolate Name  \\\n",
       "0  Coronaviridae                                      Wuhan-Hu-1   \n",
       "1  Coronaviridae  SARS-CoV-2/human/USA/UT-UPHL-220129247957/2021   \n",
       "2  Coronaviridae          SARS-CoV-2/human/HKG/VM20001061-2/2020   \n",
       "3  Coronaviridae              SARS-CoV-2/human/HKG/Original/2020   \n",
       "4  Coronaviridae  SARS-CoV-2/human/USA/UT-UPHL-211112790633/2021   \n",
       "\n",
       "   Nucleotide Length Sequence Type Nuc Completeness        Geo Location  \\\n",
       "0              29903        RefSeq         complete         Asia; China   \n",
       "1              29815       GenBank         complete  North America; USA   \n",
       "2              29870       GenBank         complete     Asia; Hong Kong   \n",
       "3              29851       GenBank         complete     Asia; Hong Kong   \n",
       "4              29712       GenBank         complete  North America; USA   \n",
       "\n",
       "   US State  Host Name  Host Taxonomy ID Collection Date   BioProject  \\\n",
       "0       NaN        NaN              9606         2019-12  PRJNA485481   \n",
       "1       NaN        NaN              9606      2021-12-23  PRJNA614995   \n",
       "2       NaN        NaN              9606      2020-01-23          NaN   \n",
       "3       NaN        NaN              9606      2020-01-23          NaN   \n",
       "4       NaN        NaN              9606      2021-09-25  PRJNA614995   \n",
       "\n",
       "      BioSample  \n",
       "0           NaN  \n",
       "1  SAMN25559487  \n",
       "2           NaN  \n",
       "3           NaN  \n",
       "4  SAMN23427251  "
      ]
     },
     "execution_count": 3,
     "metadata": {},
     "output_type": "execute_result"
    }
   ],
   "source": [
    "df.head()"
   ]
  },
  {
   "cell_type": "markdown",
   "id": "f687327c",
   "metadata": {},
   "source": [
    "## EDA"
   ]
  },
  {
   "cell_type": "code",
   "execution_count": 4,
   "id": "8bebfc9c",
   "metadata": {},
   "outputs": [
    {
     "data": {
      "text/plain": [
       "(847791, 16)"
      ]
     },
     "execution_count": 4,
     "metadata": {},
     "output_type": "execute_result"
    }
   ],
   "source": [
    "df.shape"
   ]
  },
  {
   "cell_type": "code",
   "execution_count": 5,
   "id": "bbd5b622",
   "metadata": {},
   "outputs": [
    {
     "data": {
      "text/plain": [
       "Nucleotide Accession         0\n",
       "Species Taxonomy Id          0\n",
       "Species Name                 0\n",
       "Virus Genus                  0\n",
       "Virus Family                 0\n",
       "Isolate Name            238138\n",
       "Nucleotide Length            0\n",
       "Sequence Type                0\n",
       "Nuc Completeness             0\n",
       "Geo Location                71\n",
       "US State                847791\n",
       "Host Name               847791\n",
       "Host Taxonomy ID             0\n",
       "Collection Date            196\n",
       "BioProject              236008\n",
       "BioSample               257205\n",
       "dtype: int64"
      ]
     },
     "execution_count": 5,
     "metadata": {},
     "output_type": "execute_result"
    }
   ],
   "source": [
    "df.isnull().sum()"
   ]
  },
  {
   "cell_type": "code",
   "execution_count": 6,
   "id": "4eca498b",
   "metadata": {
    "scrolled": true
   },
   "outputs": [
    {
     "data": {
      "text/plain": [
       "Nucleotide Accession     object\n",
       "Species Taxonomy Id       int64\n",
       "Species Name             object\n",
       "Virus Genus              object\n",
       "Virus Family             object\n",
       "Isolate Name             object\n",
       "Nucleotide Length         int64\n",
       "Sequence Type            object\n",
       "Nuc Completeness         object\n",
       "Geo Location             object\n",
       "US State                float64\n",
       "Host Name               float64\n",
       "Host Taxonomy ID          int64\n",
       "Collection Date          object\n",
       "BioProject               object\n",
       "BioSample                object\n",
       "dtype: object"
      ]
     },
     "execution_count": 6,
     "metadata": {},
     "output_type": "execute_result"
    }
   ],
   "source": [
    "df.dtypes"
   ]
  },
  {
   "cell_type": "markdown",
   "id": "a07e4c93",
   "metadata": {},
   "source": [
    "`Collection Date` column's datatype is string so lets convert it into datetime type."
   ]
  },
  {
   "cell_type": "code",
   "execution_count": 7,
   "id": "eb1063f4",
   "metadata": {},
   "outputs": [
    {
     "data": {
      "text/plain": [
       "'ValueError: unconverted data remains when parsing with format \"%Y-%m\": \"-23\", at position 1. You might want to try:\\n    - passing `format` if your strings have a consistent format;\\n    - passing `format=\\'ISO8601\\'` if your strings are all ISO8601 but not necessarily in exactly the same format;\\n    - passing `format=\\'mixed\\'`, and the format will be inferred for each element individually.\\n      You might want to use `dayfirst` alongside this.'"
      ]
     },
     "execution_count": 7,
     "metadata": {},
     "output_type": "execute_result"
    }
   ],
   "source": [
    "#df[\"Collection Date\"] = pd.to_datetime(df[\"Collection Date\"])\n",
    "\n",
    "#getting this error\n",
    "'''ValueError: unconverted data remains when parsing with format \"%Y-%m\": \"-23\", at position 1. You might want to try:\n",
    "    - passing `format` if your strings have a consistent format;\n",
    "    - passing `format='ISO8601'` if your strings are all ISO8601 but not necessarily in exactly the same format;\n",
    "    - passing `format='mixed'`, and the format will be inferred for each element individually.\n",
    "      You might want to use `dayfirst` alongside this.'''\n"
   ]
  },
  {
   "cell_type": "markdown",
   "id": "bc753e96",
   "metadata": {},
   "source": [
    "Collection dates are written in three formats, yy-mm-dd, yy-mm and yy. so to handle these values we can do following:"
   ]
  },
  {
   "cell_type": "code",
   "execution_count": 8,
   "id": "4316deda",
   "metadata": {},
   "outputs": [],
   "source": [
    "from dateutil import parser\n",
    "from datetime import datetime\n",
    "\n",
    "\n",
    "def parse_date(date_string):\n",
    "    \n",
    "    if pd.isna(date_string) or not isinstance(date_string, str):\n",
    "        return pd.NaT  \n",
    "    \n",
    "    try:\n",
    "        return parser.parse(date_string, default=datetime.strptime(date_string, '%Y-%m') if len(date_string) == 7 else None)\n",
    "    \n",
    "    except ValueError:\n",
    "        return pd.NaT"
   ]
  },
  {
   "cell_type": "markdown",
   "id": "1cdce26e",
   "metadata": {},
   "source": [
    "`what above function does?`\n",
    "\n",
    "The function checks if the input date_string is NaN or not a string. If true, it returns pd.NaT.\n",
    "If the input is a valid string, it attempts to parse the date using dateutil.parser.parse\n",
    "If the parsing fails due to a missing day component, the function uses datetime.strptime to set the default day to 1, creating a complete date string.\n",
    "The function returns the parsed datetime object or pd.NaT if parsing is unsuccessful."
   ]
  },
  {
   "cell_type": "markdown",
   "id": "83fc9930",
   "metadata": {},
   "source": [
    "`default=datetime.strptime(date_string, '%Y-%m'):`\n",
    "\n",
    "The default parameter is used to provide a default value in case parsing fails. Here, it uses datetime.strptime to create a datetime object with a default day value of 1.\n",
    "\n",
    "datetime.strptime(date_string, '%Y-%m') takes the date_string and converts it to a datetime object using the format '%Y-%m', where %Y represents the year and %m represents the month.\n",
    "\n",
    "`if len(date_string) == 7 else None:`\n",
    "\n",
    "This is a conditional expression that checks if the length of date_string is equal to 7 characters. A length of 7 indicates a date without the day component.\n",
    "\n",
    "If the condition is true, it returns the datetime.strptime value created in the previous step. Otherwise, it returns None."
   ]
  },
  {
   "cell_type": "code",
   "execution_count": 9,
   "id": "d15531f6",
   "metadata": {},
   "outputs": [],
   "source": [
    "df['Collection Date'] = df['Collection Date'].apply(parse_date)"
   ]
  },
  {
   "cell_type": "code",
   "execution_count": 10,
   "id": "1d53764e",
   "metadata": {},
   "outputs": [
    {
     "data": {
      "text/plain": [
       "Nucleotide Accession            object\n",
       "Species Taxonomy Id              int64\n",
       "Species Name                    object\n",
       "Virus Genus                     object\n",
       "Virus Family                    object\n",
       "Isolate Name                    object\n",
       "Nucleotide Length                int64\n",
       "Sequence Type                   object\n",
       "Nuc Completeness                object\n",
       "Geo Location                    object\n",
       "US State                       float64\n",
       "Host Name                      float64\n",
       "Host Taxonomy ID                 int64\n",
       "Collection Date         datetime64[ns]\n",
       "BioProject                      object\n",
       "BioSample                       object\n",
       "dtype: object"
      ]
     },
     "execution_count": 10,
     "metadata": {},
     "output_type": "execute_result"
    }
   ],
   "source": [
    "df.dtypes"
   ]
  },
  {
   "cell_type": "code",
   "execution_count": 11,
   "id": "8d891b14",
   "metadata": {},
   "outputs": [
    {
     "data": {
      "text/html": [
       "<div>\n",
       "<style scoped>\n",
       "    .dataframe tbody tr th:only-of-type {\n",
       "        vertical-align: middle;\n",
       "    }\n",
       "\n",
       "    .dataframe tbody tr th {\n",
       "        vertical-align: top;\n",
       "    }\n",
       "\n",
       "    .dataframe thead th {\n",
       "        text-align: right;\n",
       "    }\n",
       "</style>\n",
       "<table border=\"1\" class=\"dataframe\">\n",
       "  <thead>\n",
       "    <tr style=\"text-align: right;\">\n",
       "      <th></th>\n",
       "      <th>Nucleotide Accession</th>\n",
       "      <th>Species Taxonomy Id</th>\n",
       "      <th>Species Name</th>\n",
       "      <th>Virus Genus</th>\n",
       "      <th>Virus Family</th>\n",
       "      <th>Isolate Name</th>\n",
       "      <th>Nucleotide Length</th>\n",
       "      <th>Sequence Type</th>\n",
       "      <th>Nuc Completeness</th>\n",
       "      <th>Geo Location</th>\n",
       "      <th>US State</th>\n",
       "      <th>Host Name</th>\n",
       "      <th>Host Taxonomy ID</th>\n",
       "      <th>Collection Date</th>\n",
       "      <th>BioProject</th>\n",
       "      <th>BioSample</th>\n",
       "    </tr>\n",
       "  </thead>\n",
       "  <tbody>\n",
       "    <tr>\n",
       "      <th>0</th>\n",
       "      <td>NC_045512.2</td>\n",
       "      <td>2697049</td>\n",
       "      <td>Severe acute respiratory syndrome coronavirus 2</td>\n",
       "      <td>Betacoronavirus</td>\n",
       "      <td>Coronaviridae</td>\n",
       "      <td>Wuhan-Hu-1</td>\n",
       "      <td>29903</td>\n",
       "      <td>RefSeq</td>\n",
       "      <td>complete</td>\n",
       "      <td>Asia; China</td>\n",
       "      <td>NaN</td>\n",
       "      <td>NaN</td>\n",
       "      <td>9606</td>\n",
       "      <td>2019-12-01</td>\n",
       "      <td>PRJNA485481</td>\n",
       "      <td>NaN</td>\n",
       "    </tr>\n",
       "    <tr>\n",
       "      <th>1</th>\n",
       "      <td>OM487257.1</td>\n",
       "      <td>2697049</td>\n",
       "      <td>Severe acute respiratory syndrome coronavirus 2</td>\n",
       "      <td>Betacoronavirus</td>\n",
       "      <td>Coronaviridae</td>\n",
       "      <td>SARS-CoV-2/human/USA/UT-UPHL-220129247957/2021</td>\n",
       "      <td>29815</td>\n",
       "      <td>GenBank</td>\n",
       "      <td>complete</td>\n",
       "      <td>North America; USA</td>\n",
       "      <td>NaN</td>\n",
       "      <td>NaN</td>\n",
       "      <td>9606</td>\n",
       "      <td>2021-12-23</td>\n",
       "      <td>PRJNA614995</td>\n",
       "      <td>SAMN25559487</td>\n",
       "    </tr>\n",
       "    <tr>\n",
       "      <th>2</th>\n",
       "      <td>OM403304.1</td>\n",
       "      <td>2697049</td>\n",
       "      <td>Severe acute respiratory syndrome coronavirus 2</td>\n",
       "      <td>Betacoronavirus</td>\n",
       "      <td>Coronaviridae</td>\n",
       "      <td>SARS-CoV-2/human/HKG/VM20001061-2/2020</td>\n",
       "      <td>29870</td>\n",
       "      <td>GenBank</td>\n",
       "      <td>complete</td>\n",
       "      <td>Asia; Hong Kong</td>\n",
       "      <td>NaN</td>\n",
       "      <td>NaN</td>\n",
       "      <td>9606</td>\n",
       "      <td>2020-01-23</td>\n",
       "      <td>NaN</td>\n",
       "      <td>NaN</td>\n",
       "    </tr>\n",
       "    <tr>\n",
       "      <th>3</th>\n",
       "      <td>OM403303.1</td>\n",
       "      <td>2697049</td>\n",
       "      <td>Severe acute respiratory syndrome coronavirus 2</td>\n",
       "      <td>Betacoronavirus</td>\n",
       "      <td>Coronaviridae</td>\n",
       "      <td>SARS-CoV-2/human/HKG/Original/2020</td>\n",
       "      <td>29851</td>\n",
       "      <td>GenBank</td>\n",
       "      <td>complete</td>\n",
       "      <td>Asia; Hong Kong</td>\n",
       "      <td>NaN</td>\n",
       "      <td>NaN</td>\n",
       "      <td>9606</td>\n",
       "      <td>2020-01-23</td>\n",
       "      <td>NaN</td>\n",
       "      <td>NaN</td>\n",
       "    </tr>\n",
       "    <tr>\n",
       "      <th>4</th>\n",
       "      <td>OM401120.1</td>\n",
       "      <td>2697049</td>\n",
       "      <td>Severe acute respiratory syndrome coronavirus 2</td>\n",
       "      <td>Betacoronavirus</td>\n",
       "      <td>Coronaviridae</td>\n",
       "      <td>SARS-CoV-2/human/USA/UT-UPHL-211112790633/2021</td>\n",
       "      <td>29712</td>\n",
       "      <td>GenBank</td>\n",
       "      <td>complete</td>\n",
       "      <td>North America; USA</td>\n",
       "      <td>NaN</td>\n",
       "      <td>NaN</td>\n",
       "      <td>9606</td>\n",
       "      <td>2021-09-25</td>\n",
       "      <td>PRJNA614995</td>\n",
       "      <td>SAMN23427251</td>\n",
       "    </tr>\n",
       "  </tbody>\n",
       "</table>\n",
       "</div>"
      ],
      "text/plain": [
       "  Nucleotide Accession  Species Taxonomy Id  \\\n",
       "0          NC_045512.2              2697049   \n",
       "1           OM487257.1              2697049   \n",
       "2           OM403304.1              2697049   \n",
       "3           OM403303.1              2697049   \n",
       "4           OM401120.1              2697049   \n",
       "\n",
       "                                      Species Name      Virus Genus  \\\n",
       "0  Severe acute respiratory syndrome coronavirus 2  Betacoronavirus   \n",
       "1  Severe acute respiratory syndrome coronavirus 2  Betacoronavirus   \n",
       "2  Severe acute respiratory syndrome coronavirus 2  Betacoronavirus   \n",
       "3  Severe acute respiratory syndrome coronavirus 2  Betacoronavirus   \n",
       "4  Severe acute respiratory syndrome coronavirus 2  Betacoronavirus   \n",
       "\n",
       "    Virus Family                                    Isolate Name  \\\n",
       "0  Coronaviridae                                      Wuhan-Hu-1   \n",
       "1  Coronaviridae  SARS-CoV-2/human/USA/UT-UPHL-220129247957/2021   \n",
       "2  Coronaviridae          SARS-CoV-2/human/HKG/VM20001061-2/2020   \n",
       "3  Coronaviridae              SARS-CoV-2/human/HKG/Original/2020   \n",
       "4  Coronaviridae  SARS-CoV-2/human/USA/UT-UPHL-211112790633/2021   \n",
       "\n",
       "   Nucleotide Length Sequence Type Nuc Completeness        Geo Location  \\\n",
       "0              29903        RefSeq         complete         Asia; China   \n",
       "1              29815       GenBank         complete  North America; USA   \n",
       "2              29870       GenBank         complete     Asia; Hong Kong   \n",
       "3              29851       GenBank         complete     Asia; Hong Kong   \n",
       "4              29712       GenBank         complete  North America; USA   \n",
       "\n",
       "   US State  Host Name  Host Taxonomy ID Collection Date   BioProject  \\\n",
       "0       NaN        NaN              9606      2019-12-01  PRJNA485481   \n",
       "1       NaN        NaN              9606      2021-12-23  PRJNA614995   \n",
       "2       NaN        NaN              9606      2020-01-23          NaN   \n",
       "3       NaN        NaN              9606      2020-01-23          NaN   \n",
       "4       NaN        NaN              9606      2021-09-25  PRJNA614995   \n",
       "\n",
       "      BioSample  \n",
       "0           NaN  \n",
       "1  SAMN25559487  \n",
       "2           NaN  \n",
       "3           NaN  \n",
       "4  SAMN23427251  "
      ]
     },
     "execution_count": 11,
     "metadata": {},
     "output_type": "execute_result"
    }
   ],
   "source": [
    "df.head()"
   ]
  },
  {
   "cell_type": "markdown",
   "id": "24d53ee1",
   "metadata": {},
   "source": [
    "Let's remove continents name from `Geo Location` column and add them into new column \"Continents\""
   ]
  },
  {
   "cell_type": "code",
   "execution_count": 12,
   "id": "d448f1d3",
   "metadata": {},
   "outputs": [],
   "source": [
    "df[\"Continents\"] = df[\"Geo Location\"].str.replace(\";.+\",\"\",regex=True)"
   ]
  },
  {
   "cell_type": "markdown",
   "id": "9eefdf60",
   "metadata": {},
   "source": [
    "Above code uses the str.replace method with a regular expression to replace everything after the first semicolon (;) in each string in the \"Geo Location\" column with an empty string."
   ]
  },
  {
   "cell_type": "code",
   "execution_count": 13,
   "id": "776b9681",
   "metadata": {},
   "outputs": [
    {
     "data": {
      "text/html": [
       "<div>\n",
       "<style scoped>\n",
       "    .dataframe tbody tr th:only-of-type {\n",
       "        vertical-align: middle;\n",
       "    }\n",
       "\n",
       "    .dataframe tbody tr th {\n",
       "        vertical-align: top;\n",
       "    }\n",
       "\n",
       "    .dataframe thead th {\n",
       "        text-align: right;\n",
       "    }\n",
       "</style>\n",
       "<table border=\"1\" class=\"dataframe\">\n",
       "  <thead>\n",
       "    <tr style=\"text-align: right;\">\n",
       "      <th></th>\n",
       "      <th>Nucleotide Accession</th>\n",
       "      <th>Species Taxonomy Id</th>\n",
       "      <th>Species Name</th>\n",
       "      <th>Virus Genus</th>\n",
       "      <th>Virus Family</th>\n",
       "      <th>Isolate Name</th>\n",
       "      <th>Nucleotide Length</th>\n",
       "      <th>Sequence Type</th>\n",
       "      <th>Nuc Completeness</th>\n",
       "      <th>Geo Location</th>\n",
       "      <th>US State</th>\n",
       "      <th>Host Name</th>\n",
       "      <th>Host Taxonomy ID</th>\n",
       "      <th>Collection Date</th>\n",
       "      <th>BioProject</th>\n",
       "      <th>BioSample</th>\n",
       "      <th>Continents</th>\n",
       "    </tr>\n",
       "  </thead>\n",
       "  <tbody>\n",
       "    <tr>\n",
       "      <th>0</th>\n",
       "      <td>NC_045512.2</td>\n",
       "      <td>2697049</td>\n",
       "      <td>Severe acute respiratory syndrome coronavirus 2</td>\n",
       "      <td>Betacoronavirus</td>\n",
       "      <td>Coronaviridae</td>\n",
       "      <td>Wuhan-Hu-1</td>\n",
       "      <td>29903</td>\n",
       "      <td>RefSeq</td>\n",
       "      <td>complete</td>\n",
       "      <td>Asia; China</td>\n",
       "      <td>NaN</td>\n",
       "      <td>NaN</td>\n",
       "      <td>9606</td>\n",
       "      <td>2019-12-01</td>\n",
       "      <td>PRJNA485481</td>\n",
       "      <td>NaN</td>\n",
       "      <td>Asia</td>\n",
       "    </tr>\n",
       "    <tr>\n",
       "      <th>1</th>\n",
       "      <td>OM487257.1</td>\n",
       "      <td>2697049</td>\n",
       "      <td>Severe acute respiratory syndrome coronavirus 2</td>\n",
       "      <td>Betacoronavirus</td>\n",
       "      <td>Coronaviridae</td>\n",
       "      <td>SARS-CoV-2/human/USA/UT-UPHL-220129247957/2021</td>\n",
       "      <td>29815</td>\n",
       "      <td>GenBank</td>\n",
       "      <td>complete</td>\n",
       "      <td>North America; USA</td>\n",
       "      <td>NaN</td>\n",
       "      <td>NaN</td>\n",
       "      <td>9606</td>\n",
       "      <td>2021-12-23</td>\n",
       "      <td>PRJNA614995</td>\n",
       "      <td>SAMN25559487</td>\n",
       "      <td>North America</td>\n",
       "    </tr>\n",
       "    <tr>\n",
       "      <th>2</th>\n",
       "      <td>OM403304.1</td>\n",
       "      <td>2697049</td>\n",
       "      <td>Severe acute respiratory syndrome coronavirus 2</td>\n",
       "      <td>Betacoronavirus</td>\n",
       "      <td>Coronaviridae</td>\n",
       "      <td>SARS-CoV-2/human/HKG/VM20001061-2/2020</td>\n",
       "      <td>29870</td>\n",
       "      <td>GenBank</td>\n",
       "      <td>complete</td>\n",
       "      <td>Asia; Hong Kong</td>\n",
       "      <td>NaN</td>\n",
       "      <td>NaN</td>\n",
       "      <td>9606</td>\n",
       "      <td>2020-01-23</td>\n",
       "      <td>NaN</td>\n",
       "      <td>NaN</td>\n",
       "      <td>Asia</td>\n",
       "    </tr>\n",
       "    <tr>\n",
       "      <th>3</th>\n",
       "      <td>OM403303.1</td>\n",
       "      <td>2697049</td>\n",
       "      <td>Severe acute respiratory syndrome coronavirus 2</td>\n",
       "      <td>Betacoronavirus</td>\n",
       "      <td>Coronaviridae</td>\n",
       "      <td>SARS-CoV-2/human/HKG/Original/2020</td>\n",
       "      <td>29851</td>\n",
       "      <td>GenBank</td>\n",
       "      <td>complete</td>\n",
       "      <td>Asia; Hong Kong</td>\n",
       "      <td>NaN</td>\n",
       "      <td>NaN</td>\n",
       "      <td>9606</td>\n",
       "      <td>2020-01-23</td>\n",
       "      <td>NaN</td>\n",
       "      <td>NaN</td>\n",
       "      <td>Asia</td>\n",
       "    </tr>\n",
       "    <tr>\n",
       "      <th>4</th>\n",
       "      <td>OM401120.1</td>\n",
       "      <td>2697049</td>\n",
       "      <td>Severe acute respiratory syndrome coronavirus 2</td>\n",
       "      <td>Betacoronavirus</td>\n",
       "      <td>Coronaviridae</td>\n",
       "      <td>SARS-CoV-2/human/USA/UT-UPHL-211112790633/2021</td>\n",
       "      <td>29712</td>\n",
       "      <td>GenBank</td>\n",
       "      <td>complete</td>\n",
       "      <td>North America; USA</td>\n",
       "      <td>NaN</td>\n",
       "      <td>NaN</td>\n",
       "      <td>9606</td>\n",
       "      <td>2021-09-25</td>\n",
       "      <td>PRJNA614995</td>\n",
       "      <td>SAMN23427251</td>\n",
       "      <td>North America</td>\n",
       "    </tr>\n",
       "  </tbody>\n",
       "</table>\n",
       "</div>"
      ],
      "text/plain": [
       "  Nucleotide Accession  Species Taxonomy Id  \\\n",
       "0          NC_045512.2              2697049   \n",
       "1           OM487257.1              2697049   \n",
       "2           OM403304.1              2697049   \n",
       "3           OM403303.1              2697049   \n",
       "4           OM401120.1              2697049   \n",
       "\n",
       "                                      Species Name      Virus Genus  \\\n",
       "0  Severe acute respiratory syndrome coronavirus 2  Betacoronavirus   \n",
       "1  Severe acute respiratory syndrome coronavirus 2  Betacoronavirus   \n",
       "2  Severe acute respiratory syndrome coronavirus 2  Betacoronavirus   \n",
       "3  Severe acute respiratory syndrome coronavirus 2  Betacoronavirus   \n",
       "4  Severe acute respiratory syndrome coronavirus 2  Betacoronavirus   \n",
       "\n",
       "    Virus Family                                    Isolate Name  \\\n",
       "0  Coronaviridae                                      Wuhan-Hu-1   \n",
       "1  Coronaviridae  SARS-CoV-2/human/USA/UT-UPHL-220129247957/2021   \n",
       "2  Coronaviridae          SARS-CoV-2/human/HKG/VM20001061-2/2020   \n",
       "3  Coronaviridae              SARS-CoV-2/human/HKG/Original/2020   \n",
       "4  Coronaviridae  SARS-CoV-2/human/USA/UT-UPHL-211112790633/2021   \n",
       "\n",
       "   Nucleotide Length Sequence Type Nuc Completeness        Geo Location  \\\n",
       "0              29903        RefSeq         complete         Asia; China   \n",
       "1              29815       GenBank         complete  North America; USA   \n",
       "2              29870       GenBank         complete     Asia; Hong Kong   \n",
       "3              29851       GenBank         complete     Asia; Hong Kong   \n",
       "4              29712       GenBank         complete  North America; USA   \n",
       "\n",
       "   US State  Host Name  Host Taxonomy ID Collection Date   BioProject  \\\n",
       "0       NaN        NaN              9606      2019-12-01  PRJNA485481   \n",
       "1       NaN        NaN              9606      2021-12-23  PRJNA614995   \n",
       "2       NaN        NaN              9606      2020-01-23          NaN   \n",
       "3       NaN        NaN              9606      2020-01-23          NaN   \n",
       "4       NaN        NaN              9606      2021-09-25  PRJNA614995   \n",
       "\n",
       "      BioSample     Continents  \n",
       "0           NaN           Asia  \n",
       "1  SAMN25559487  North America  \n",
       "2           NaN           Asia  \n",
       "3           NaN           Asia  \n",
       "4  SAMN23427251  North America  "
      ]
     },
     "execution_count": 13,
     "metadata": {},
     "output_type": "execute_result"
    }
   ],
   "source": [
    "df.head()"
   ]
  },
  {
   "cell_type": "markdown",
   "id": "27ffaca3",
   "metadata": {},
   "source": [
    "Let's check first sequence collected in each continent"
   ]
  },
  {
   "cell_type": "code",
   "execution_count": 14,
   "id": "51212e63",
   "metadata": {},
   "outputs": [
    {
     "data": {
      "text/html": [
       "<div>\n",
       "<style scoped>\n",
       "    .dataframe tbody tr th:only-of-type {\n",
       "        vertical-align: middle;\n",
       "    }\n",
       "\n",
       "    .dataframe tbody tr th {\n",
       "        vertical-align: top;\n",
       "    }\n",
       "\n",
       "    .dataframe thead th {\n",
       "        text-align: right;\n",
       "    }\n",
       "</style>\n",
       "<table border=\"1\" class=\"dataframe\">\n",
       "  <thead>\n",
       "    <tr style=\"text-align: right;\">\n",
       "      <th></th>\n",
       "      <th>Nucleotide Accession</th>\n",
       "      <th>Species Taxonomy Id</th>\n",
       "      <th>Species Name</th>\n",
       "      <th>Virus Genus</th>\n",
       "      <th>Virus Family</th>\n",
       "      <th>Isolate Name</th>\n",
       "      <th>Nucleotide Length</th>\n",
       "      <th>Sequence Type</th>\n",
       "      <th>Nuc Completeness</th>\n",
       "      <th>Geo Location</th>\n",
       "      <th>US State</th>\n",
       "      <th>Host Name</th>\n",
       "      <th>Host Taxonomy ID</th>\n",
       "      <th>Collection Date</th>\n",
       "      <th>BioProject</th>\n",
       "      <th>BioSample</th>\n",
       "      <th>Continents</th>\n",
       "    </tr>\n",
       "    <tr>\n",
       "      <th>Continents</th>\n",
       "      <th></th>\n",
       "      <th></th>\n",
       "      <th></th>\n",
       "      <th></th>\n",
       "      <th></th>\n",
       "      <th></th>\n",
       "      <th></th>\n",
       "      <th></th>\n",
       "      <th></th>\n",
       "      <th></th>\n",
       "      <th></th>\n",
       "      <th></th>\n",
       "      <th></th>\n",
       "      <th></th>\n",
       "      <th></th>\n",
       "      <th></th>\n",
       "      <th></th>\n",
       "    </tr>\n",
       "  </thead>\n",
       "  <tbody>\n",
       "    <tr>\n",
       "      <th>Africa</th>\n",
       "      <td>OL336607.1</td>\n",
       "      <td>2697049</td>\n",
       "      <td>Severe acute respiratory syndrome coronavirus 2</td>\n",
       "      <td>Betacoronavirus</td>\n",
       "      <td>Coronaviridae</td>\n",
       "      <td>SARS-CoV-2/human/MLI/M00960/2020</td>\n",
       "      <td>29890</td>\n",
       "      <td>GenBank</td>\n",
       "      <td>complete</td>\n",
       "      <td>Africa; Mali</td>\n",
       "      <td>NaN</td>\n",
       "      <td>NaN</td>\n",
       "      <td>9606</td>\n",
       "      <td>2020-02-06</td>\n",
       "      <td>NaN</td>\n",
       "      <td>NaN</td>\n",
       "      <td>Africa</td>\n",
       "    </tr>\n",
       "    <tr>\n",
       "      <th>Asia</th>\n",
       "      <td>NC_045512.2</td>\n",
       "      <td>2697049</td>\n",
       "      <td>Severe acute respiratory syndrome coronavirus 2</td>\n",
       "      <td>Betacoronavirus</td>\n",
       "      <td>Coronaviridae</td>\n",
       "      <td>Wuhan-Hu-1</td>\n",
       "      <td>29903</td>\n",
       "      <td>RefSeq</td>\n",
       "      <td>complete</td>\n",
       "      <td>Asia; China</td>\n",
       "      <td>NaN</td>\n",
       "      <td>NaN</td>\n",
       "      <td>9606</td>\n",
       "      <td>2019-12-01</td>\n",
       "      <td>PRJNA485481</td>\n",
       "      <td>NaN</td>\n",
       "      <td>Asia</td>\n",
       "    </tr>\n",
       "    <tr>\n",
       "      <th>Europe</th>\n",
       "      <td>MT270109.1</td>\n",
       "      <td>2697049</td>\n",
       "      <td>Severe acute respiratory syndrome coronavirus 2</td>\n",
       "      <td>Betacoronavirus</td>\n",
       "      <td>Coronaviridae</td>\n",
       "      <td>SARS-CoV-2/human/DEU/BavPat11-ChVir1459/2020</td>\n",
       "      <td>29782</td>\n",
       "      <td>GenBank</td>\n",
       "      <td>complete</td>\n",
       "      <td>Europe; Germany: Bavaria</td>\n",
       "      <td>NaN</td>\n",
       "      <td>NaN</td>\n",
       "      <td>9606</td>\n",
       "      <td>2020-01-01</td>\n",
       "      <td>NaN</td>\n",
       "      <td>NaN</td>\n",
       "      <td>Europe</td>\n",
       "    </tr>\n",
       "    <tr>\n",
       "      <th>North America</th>\n",
       "      <td>MW585340.1</td>\n",
       "      <td>2697049</td>\n",
       "      <td>Severe acute respiratory syndrome coronavirus 2</td>\n",
       "      <td>Betacoronavirus</td>\n",
       "      <td>Coronaviridae</td>\n",
       "      <td>SARS-CoV-2/human/USA/OH-UHTL-3/2020</td>\n",
       "      <td>29897</td>\n",
       "      <td>GenBank</td>\n",
       "      <td>complete</td>\n",
       "      <td>North America; USA: Ohio</td>\n",
       "      <td>NaN</td>\n",
       "      <td>NaN</td>\n",
       "      <td>9606</td>\n",
       "      <td>2020-01-05</td>\n",
       "      <td>NaN</td>\n",
       "      <td>NaN</td>\n",
       "      <td>North America</td>\n",
       "    </tr>\n",
       "    <tr>\n",
       "      <th>Oceania</th>\n",
       "      <td>MT007544.1</td>\n",
       "      <td>2697049</td>\n",
       "      <td>Severe acute respiratory syndrome coronavirus 2</td>\n",
       "      <td>Betacoronavirus</td>\n",
       "      <td>Coronaviridae</td>\n",
       "      <td>SARS-CoV-2/human/AUS/VIC01/2020</td>\n",
       "      <td>29893</td>\n",
       "      <td>GenBank</td>\n",
       "      <td>complete</td>\n",
       "      <td>Oceania; Australia: Melbourne, Victoria</td>\n",
       "      <td>NaN</td>\n",
       "      <td>NaN</td>\n",
       "      <td>9606</td>\n",
       "      <td>2020-01-25</td>\n",
       "      <td>PRJNA613958</td>\n",
       "      <td>SAMN15366226</td>\n",
       "      <td>Oceania</td>\n",
       "    </tr>\n",
       "    <tr>\n",
       "      <th>South America</th>\n",
       "      <td>MT126808.1</td>\n",
       "      <td>2697049</td>\n",
       "      <td>Severe acute respiratory syndrome coronavirus 2</td>\n",
       "      <td>Betacoronavirus</td>\n",
       "      <td>Coronaviridae</td>\n",
       "      <td>SARS-CoV-2/human/BRA/SP02/2020</td>\n",
       "      <td>29876</td>\n",
       "      <td>GenBank</td>\n",
       "      <td>complete</td>\n",
       "      <td>South America; Brazil</td>\n",
       "      <td>NaN</td>\n",
       "      <td>NaN</td>\n",
       "      <td>9606</td>\n",
       "      <td>2020-02-28</td>\n",
       "      <td>NaN</td>\n",
       "      <td>NaN</td>\n",
       "      <td>South America</td>\n",
       "    </tr>\n",
       "  </tbody>\n",
       "</table>\n",
       "</div>"
      ],
      "text/plain": [
       "              Nucleotide Accession  Species Taxonomy Id  \\\n",
       "Continents                                                \n",
       "Africa                  OL336607.1              2697049   \n",
       "Asia                   NC_045512.2              2697049   \n",
       "Europe                  MT270109.1              2697049   \n",
       "North America           MW585340.1              2697049   \n",
       "Oceania                 MT007544.1              2697049   \n",
       "South America           MT126808.1              2697049   \n",
       "\n",
       "                                                  Species Name  \\\n",
       "Continents                                                       \n",
       "Africa         Severe acute respiratory syndrome coronavirus 2   \n",
       "Asia           Severe acute respiratory syndrome coronavirus 2   \n",
       "Europe         Severe acute respiratory syndrome coronavirus 2   \n",
       "North America  Severe acute respiratory syndrome coronavirus 2   \n",
       "Oceania        Severe acute respiratory syndrome coronavirus 2   \n",
       "South America  Severe acute respiratory syndrome coronavirus 2   \n",
       "\n",
       "                   Virus Genus   Virus Family  \\\n",
       "Continents                                      \n",
       "Africa         Betacoronavirus  Coronaviridae   \n",
       "Asia           Betacoronavirus  Coronaviridae   \n",
       "Europe         Betacoronavirus  Coronaviridae   \n",
       "North America  Betacoronavirus  Coronaviridae   \n",
       "Oceania        Betacoronavirus  Coronaviridae   \n",
       "South America  Betacoronavirus  Coronaviridae   \n",
       "\n",
       "                                               Isolate Name  \\\n",
       "Continents                                                    \n",
       "Africa                     SARS-CoV-2/human/MLI/M00960/2020   \n",
       "Asia                                             Wuhan-Hu-1   \n",
       "Europe         SARS-CoV-2/human/DEU/BavPat11-ChVir1459/2020   \n",
       "North America           SARS-CoV-2/human/USA/OH-UHTL-3/2020   \n",
       "Oceania                     SARS-CoV-2/human/AUS/VIC01/2020   \n",
       "South America                SARS-CoV-2/human/BRA/SP02/2020   \n",
       "\n",
       "               Nucleotide Length Sequence Type Nuc Completeness  \\\n",
       "Continents                                                        \n",
       "Africa                     29890       GenBank         complete   \n",
       "Asia                       29903        RefSeq         complete   \n",
       "Europe                     29782       GenBank         complete   \n",
       "North America              29897       GenBank         complete   \n",
       "Oceania                    29893       GenBank         complete   \n",
       "South America              29876       GenBank         complete   \n",
       "\n",
       "                                          Geo Location  US State  Host Name  \\\n",
       "Continents                                                                    \n",
       "Africa                                    Africa; Mali       NaN        NaN   \n",
       "Asia                                       Asia; China       NaN        NaN   \n",
       "Europe                        Europe; Germany: Bavaria       NaN        NaN   \n",
       "North America                 North America; USA: Ohio       NaN        NaN   \n",
       "Oceania        Oceania; Australia: Melbourne, Victoria       NaN        NaN   \n",
       "South America                    South America; Brazil       NaN        NaN   \n",
       "\n",
       "               Host Taxonomy ID Collection Date   BioProject     BioSample  \\\n",
       "Continents                                                                   \n",
       "Africa                     9606      2020-02-06          NaN           NaN   \n",
       "Asia                       9606      2019-12-01  PRJNA485481           NaN   \n",
       "Europe                     9606      2020-01-01          NaN           NaN   \n",
       "North America              9606      2020-01-05          NaN           NaN   \n",
       "Oceania                    9606      2020-01-25  PRJNA613958  SAMN15366226   \n",
       "South America              9606      2020-02-28          NaN           NaN   \n",
       "\n",
       "                  Continents  \n",
       "Continents                    \n",
       "Africa                Africa  \n",
       "Asia                    Asia  \n",
       "Europe                Europe  \n",
       "North America  North America  \n",
       "Oceania              Oceania  \n",
       "South America  South America  "
      ]
     },
     "execution_count": 14,
     "metadata": {},
     "output_type": "execute_result"
    }
   ],
   "source": [
    "df.groupby(\"Continents\").apply(lambda x: x.sort_values(\"Collection Date\").iloc[0])"
   ]
  },
  {
   "cell_type": "markdown",
   "id": "82169049",
   "metadata": {},
   "source": [
    "No. of sequences collected in each continent:"
   ]
  },
  {
   "cell_type": "code",
   "execution_count": 15,
   "id": "a987e976",
   "metadata": {},
   "outputs": [
    {
     "data": {
      "text/plain": [
       "Continents\n",
       "North America    571069\n",
       "Europe           254520\n",
       "Oceania           10603\n",
       "Asia               8581\n",
       "Africa             2192\n",
       "South America       755\n",
       "Name: count, dtype: int64"
      ]
     },
     "execution_count": 15,
     "metadata": {},
     "output_type": "execute_result"
    }
   ],
   "source": [
    "df[\"Continents\"].value_counts()"
   ]
  },
  {
   "cell_type": "markdown",
   "id": "05b48268",
   "metadata": {},
   "source": [
    "summary length of nucleotide"
   ]
  },
  {
   "cell_type": "code",
   "execution_count": 16,
   "id": "d9556a57",
   "metadata": {},
   "outputs": [
    {
     "data": {
      "text/plain": [
       "count    847791.000000\n",
       "mean      29825.747932\n",
       "std          69.937482\n",
       "min        2859.000000\n",
       "25%       29786.000000\n",
       "50%       29819.000000\n",
       "75%       29884.000000\n",
       "max       30018.000000\n",
       "Name: Nucleotide Length, dtype: float64"
      ]
     },
     "execution_count": 16,
     "metadata": {},
     "output_type": "execute_result"
    }
   ],
   "source": [
    "df[\"Nucleotide Length\"].describe()"
   ]
  },
  {
   "cell_type": "markdown",
   "id": "75306db8",
   "metadata": {},
   "source": [
    "Let's find which row has lowest nucleotide length"
   ]
  },
  {
   "cell_type": "code",
   "execution_count": 17,
   "id": "01183837",
   "metadata": {},
   "outputs": [
    {
     "data": {
      "text/html": [
       "<div>\n",
       "<style scoped>\n",
       "    .dataframe tbody tr th:only-of-type {\n",
       "        vertical-align: middle;\n",
       "    }\n",
       "\n",
       "    .dataframe tbody tr th {\n",
       "        vertical-align: top;\n",
       "    }\n",
       "\n",
       "    .dataframe thead th {\n",
       "        text-align: right;\n",
       "    }\n",
       "</style>\n",
       "<table border=\"1\" class=\"dataframe\">\n",
       "  <thead>\n",
       "    <tr style=\"text-align: right;\">\n",
       "      <th></th>\n",
       "      <th>Nucleotide Accession</th>\n",
       "      <th>Species Taxonomy Id</th>\n",
       "      <th>Species Name</th>\n",
       "      <th>Virus Genus</th>\n",
       "      <th>Virus Family</th>\n",
       "      <th>Isolate Name</th>\n",
       "      <th>Nucleotide Length</th>\n",
       "      <th>Sequence Type</th>\n",
       "      <th>Nuc Completeness</th>\n",
       "      <th>Geo Location</th>\n",
       "      <th>US State</th>\n",
       "      <th>Host Name</th>\n",
       "      <th>Host Taxonomy ID</th>\n",
       "      <th>Collection Date</th>\n",
       "      <th>BioProject</th>\n",
       "      <th>BioSample</th>\n",
       "      <th>Continents</th>\n",
       "    </tr>\n",
       "  </thead>\n",
       "  <tbody>\n",
       "    <tr>\n",
       "      <th>847723</th>\n",
       "      <td>LR877184.1</td>\n",
       "      <td>2697049</td>\n",
       "      <td>Severe acute respiratory syndrome coronavirus 2</td>\n",
       "      <td>Betacoronavirus</td>\n",
       "      <td>Coronaviridae</td>\n",
       "      <td>NaN</td>\n",
       "      <td>2859</td>\n",
       "      <td>GenBank</td>\n",
       "      <td>complete</td>\n",
       "      <td>Europe; Sweden:Stockholm, Sweden</td>\n",
       "      <td>NaN</td>\n",
       "      <td>NaN</td>\n",
       "      <td>9606</td>\n",
       "      <td>2020-04-26</td>\n",
       "      <td>PRJEB39632</td>\n",
       "      <td>SAMEA7098098</td>\n",
       "      <td>Europe</td>\n",
       "    </tr>\n",
       "  </tbody>\n",
       "</table>\n",
       "</div>"
      ],
      "text/plain": [
       "       Nucleotide Accession  Species Taxonomy Id  \\\n",
       "847723           LR877184.1              2697049   \n",
       "\n",
       "                                           Species Name      Virus Genus  \\\n",
       "847723  Severe acute respiratory syndrome coronavirus 2  Betacoronavirus   \n",
       "\n",
       "         Virus Family Isolate Name  Nucleotide Length Sequence Type  \\\n",
       "847723  Coronaviridae          NaN               2859       GenBank   \n",
       "\n",
       "       Nuc Completeness                      Geo Location  US State  \\\n",
       "847723         complete  Europe; Sweden:Stockholm, Sweden       NaN   \n",
       "\n",
       "        Host Name  Host Taxonomy ID Collection Date  BioProject     BioSample  \\\n",
       "847723        NaN              9606      2020-04-26  PRJEB39632  SAMEA7098098   \n",
       "\n",
       "       Continents  \n",
       "847723     Europe  "
      ]
     },
     "execution_count": 17,
     "metadata": {},
     "output_type": "execute_result"
    }
   ],
   "source": [
    "df[df[\"Nucleotide Length\"]==df[\"Nucleotide Length\"].min()]"
   ]
  },
  {
   "cell_type": "markdown",
   "id": "f77fd6e9",
   "metadata": {},
   "source": [
    "Here \"nuc Completeness\"'s value is complete, which refers to genome completeness and as we know complete genome consist approx 30,000 Nucleotide but here it says only 2859 which could be a typo."
   ]
  },
  {
   "cell_type": "markdown",
   "id": "d669c228",
   "metadata": {},
   "source": [
    "No. of samples collected per month:"
   ]
  },
  {
   "cell_type": "code",
   "execution_count": 18,
   "id": "c29c5ce9",
   "metadata": {},
   "outputs": [],
   "source": [
    "monthData = pd.Series(df[\"Collection Date\"].values.astype('<M8[M]'))"
   ]
  },
  {
   "cell_type": "markdown",
   "id": "e50ecc0d",
   "metadata": {},
   "source": [
    "The expression astype('<M8[M]') is a NumPy method used to convert an array to a specific data type. \n",
    "<M8 represents a datetime64 type, and [M] specifies a monthly frequency. It means the resulting array will have datetime values with a monthly precision."
   ]
  },
  {
   "cell_type": "code",
   "execution_count": 19,
   "id": "f780b939",
   "metadata": {},
   "outputs": [
    {
     "data": {
      "text/plain": [
       "2019-12-01        16\n",
       "2020-01-01       201\n",
       "2020-02-01       385\n",
       "2020-03-01     29839\n",
       "2020-04-01     13298\n",
       "2020-05-01      6529\n",
       "2020-06-01      9506\n",
       "2020-07-01     11398\n",
       "2020-08-01     11702\n",
       "2020-09-01     13166\n",
       "2020-10-01     20743\n",
       "2020-11-01     28892\n",
       "2020-12-01     35350\n",
       "2021-01-01     68231\n",
       "2021-02-01     44564\n",
       "2021-03-01     49237\n",
       "2021-04-01     69412\n",
       "2021-05-01     39809\n",
       "2021-06-01     20994\n",
       "2021-07-01     22498\n",
       "2021-08-01     11412\n",
       "2021-09-01     15102\n",
       "2021-10-01     17598\n",
       "2021-11-01    102642\n",
       "2021-12-01    131297\n",
       "2022-01-01     73303\n",
       "2022-02-01       450\n",
       "2022-03-01        21\n",
       "Name: count, dtype: int64"
      ]
     },
     "execution_count": 19,
     "metadata": {},
     "output_type": "execute_result"
    }
   ],
   "source": [
    "data = monthData.value_counts().sort_index()\n",
    "data"
   ]
  },
  {
   "cell_type": "markdown",
   "id": "e8fba91b",
   "metadata": {},
   "source": [
    "Let's plot this data:"
   ]
  },
  {
   "cell_type": "code",
   "execution_count": 20,
   "id": "c4d2cefd",
   "metadata": {},
   "outputs": [
    {
     "data": {
      "image/png": "[encoded data removed]",
      "text/plain": [
       "<Figure size 640x480 with 1 Axes>"
      ]
     },
     "metadata": {},
     "output_type": "display_data"
    }
   ],
   "source": [
    "data.plot(style='o-', color='b', linewidth=2, markersize=8, label='Monthly Sample Count') \n",
    "\n",
    "plt.title('Number of Samples Collected per Month')\n",
    "plt.xlabel('Month')\n",
    "plt.ylabel('Number of Samples')\n",
    "plt.legend()\n",
    "plt.grid(True)\n",
    "plt.show()"
   ]
  },
  {
   "cell_type": "markdown",
   "id": "32e3f52b",
   "metadata": {},
   "source": [
    "Above chart shows no. of samples collected per month"
   ]
  },
  {
   "cell_type": "markdown",
   "id": "0c0126d0",
   "metadata": {},
   "source": [
    "### let's pull out reference sequence (first covid genome which was fully sequenced) to analyze some sequences:"
   ]
  },
  {
   "cell_type": "code",
   "execution_count": 21,
   "id": "2771fab3",
   "metadata": {},
   "outputs": [
    {
     "data": {
      "text/html": [
       "<div>\n",
       "<style scoped>\n",
       "    .dataframe tbody tr th:only-of-type {\n",
       "        vertical-align: middle;\n",
       "    }\n",
       "\n",
       "    .dataframe tbody tr th {\n",
       "        vertical-align: top;\n",
       "    }\n",
       "\n",
       "    .dataframe thead th {\n",
       "        text-align: right;\n",
       "    }\n",
       "</style>\n",
       "<table border=\"1\" class=\"dataframe\">\n",
       "  <thead>\n",
       "    <tr style=\"text-align: right;\">\n",
       "      <th></th>\n",
       "      <th>Nucleotide Accession</th>\n",
       "      <th>Species Taxonomy Id</th>\n",
       "      <th>Species Name</th>\n",
       "      <th>Virus Genus</th>\n",
       "      <th>Virus Family</th>\n",
       "      <th>Isolate Name</th>\n",
       "      <th>Nucleotide Length</th>\n",
       "      <th>Sequence Type</th>\n",
       "      <th>Nuc Completeness</th>\n",
       "      <th>Geo Location</th>\n",
       "      <th>US State</th>\n",
       "      <th>Host Name</th>\n",
       "      <th>Host Taxonomy ID</th>\n",
       "      <th>Collection Date</th>\n",
       "      <th>BioProject</th>\n",
       "      <th>BioSample</th>\n",
       "      <th>Continents</th>\n",
       "    </tr>\n",
       "  </thead>\n",
       "  <tbody>\n",
       "    <tr>\n",
       "      <th>0</th>\n",
       "      <td>NC_045512.2</td>\n",
       "      <td>2697049</td>\n",
       "      <td>Severe acute respiratory syndrome coronavirus 2</td>\n",
       "      <td>Betacoronavirus</td>\n",
       "      <td>Coronaviridae</td>\n",
       "      <td>Wuhan-Hu-1</td>\n",
       "      <td>29903</td>\n",
       "      <td>RefSeq</td>\n",
       "      <td>complete</td>\n",
       "      <td>Asia; China</td>\n",
       "      <td>NaN</td>\n",
       "      <td>NaN</td>\n",
       "      <td>9606</td>\n",
       "      <td>2019-12-01</td>\n",
       "      <td>PRJNA485481</td>\n",
       "      <td>NaN</td>\n",
       "      <td>Asia</td>\n",
       "    </tr>\n",
       "  </tbody>\n",
       "</table>\n",
       "</div>"
      ],
      "text/plain": [
       "  Nucleotide Accession  Species Taxonomy Id  \\\n",
       "0          NC_045512.2              2697049   \n",
       "\n",
       "                                      Species Name      Virus Genus  \\\n",
       "0  Severe acute respiratory syndrome coronavirus 2  Betacoronavirus   \n",
       "\n",
       "    Virus Family Isolate Name  Nucleotide Length Sequence Type  \\\n",
       "0  Coronaviridae   Wuhan-Hu-1              29903        RefSeq   \n",
       "\n",
       "  Nuc Completeness Geo Location  US State  Host Name  Host Taxonomy ID  \\\n",
       "0         complete  Asia; China       NaN        NaN              9606   \n",
       "\n",
       "  Collection Date   BioProject BioSample Continents  \n",
       "0      2019-12-01  PRJNA485481       NaN       Asia  "
      ]
     },
     "execution_count": 21,
     "metadata": {},
     "output_type": "execute_result"
    }
   ],
   "source": [
    "df[df[\"Sequence Type\"]==\"RefSeq\"]"
   ]
  },
  {
   "cell_type": "markdown",
   "id": "b63355f6",
   "metadata": {},
   "source": [
    "Find Sequences of delta variant:\n",
    "\n",
    "In dataset, sequences(rows) of delta contains word \"delta\" in isolate name column "
   ]
  },
  {
   "cell_type": "code",
   "execution_count": 22,
   "id": "f6091f4f",
   "metadata": {},
   "outputs": [
    {
     "data": {
      "text/html": [
       "<div>\n",
       "<style scoped>\n",
       "    .dataframe tbody tr th:only-of-type {\n",
       "        vertical-align: middle;\n",
       "    }\n",
       "\n",
       "    .dataframe tbody tr th {\n",
       "        vertical-align: top;\n",
       "    }\n",
       "\n",
       "    .dataframe thead th {\n",
       "        text-align: right;\n",
       "    }\n",
       "</style>\n",
       "<table border=\"1\" class=\"dataframe\">\n",
       "  <thead>\n",
       "    <tr style=\"text-align: right;\">\n",
       "      <th></th>\n",
       "      <th>Nucleotide Accession</th>\n",
       "      <th>Species Taxonomy Id</th>\n",
       "      <th>Species Name</th>\n",
       "      <th>Virus Genus</th>\n",
       "      <th>Virus Family</th>\n",
       "      <th>Isolate Name</th>\n",
       "      <th>Nucleotide Length</th>\n",
       "      <th>Sequence Type</th>\n",
       "      <th>Nuc Completeness</th>\n",
       "      <th>Geo Location</th>\n",
       "      <th>US State</th>\n",
       "      <th>Host Name</th>\n",
       "      <th>Host Taxonomy ID</th>\n",
       "      <th>Collection Date</th>\n",
       "      <th>BioProject</th>\n",
       "      <th>BioSample</th>\n",
       "      <th>Continents</th>\n",
       "    </tr>\n",
       "  </thead>\n",
       "  <tbody>\n",
       "    <tr>\n",
       "      <th>85804</th>\n",
       "      <td>OM108163.1</td>\n",
       "      <td>2697049</td>\n",
       "      <td>Severe acute respiratory syndrome coronavirus 2</td>\n",
       "      <td>Betacoronavirus</td>\n",
       "      <td>Coronaviridae</td>\n",
       "      <td>SARS-CoV-2/human/CHN/Delta-3/2021</td>\n",
       "      <td>29860</td>\n",
       "      <td>GenBank</td>\n",
       "      <td>complete</td>\n",
       "      <td>Asia; China: Beijing</td>\n",
       "      <td>NaN</td>\n",
       "      <td>NaN</td>\n",
       "      <td>9606</td>\n",
       "      <td>2021-08-14</td>\n",
       "      <td>NaN</td>\n",
       "      <td>NaN</td>\n",
       "      <td>Asia</td>\n",
       "    </tr>\n",
       "    <tr>\n",
       "      <th>85948</th>\n",
       "      <td>OM061695.1</td>\n",
       "      <td>2697049</td>\n",
       "      <td>Severe acute respiratory syndrome coronavirus 2</td>\n",
       "      <td>Betacoronavirus</td>\n",
       "      <td>Coronaviridae</td>\n",
       "      <td>SARS-CoV-2/human/CHN/Delta-1/2021</td>\n",
       "      <td>29858</td>\n",
       "      <td>GenBank</td>\n",
       "      <td>complete</td>\n",
       "      <td>Asia; China: Beijing</td>\n",
       "      <td>NaN</td>\n",
       "      <td>NaN</td>\n",
       "      <td>9606</td>\n",
       "      <td>2021-08-10</td>\n",
       "      <td>NaN</td>\n",
       "      <td>NaN</td>\n",
       "      <td>Asia</td>\n",
       "    </tr>\n",
       "    <tr>\n",
       "      <th>251375</th>\n",
       "      <td>OK091006.1</td>\n",
       "      <td>2697049</td>\n",
       "      <td>Severe acute respiratory syndrome coronavirus 2</td>\n",
       "      <td>Betacoronavirus</td>\n",
       "      <td>Coronaviridae</td>\n",
       "      <td>SARS-CoV-2/human/JPN/SARS-CoV-2, B.1.617.2 lin...</td>\n",
       "      <td>29836</td>\n",
       "      <td>GenBank</td>\n",
       "      <td>complete</td>\n",
       "      <td>Asia; Japan</td>\n",
       "      <td>NaN</td>\n",
       "      <td>NaN</td>\n",
       "      <td>9606</td>\n",
       "      <td>2021-08-24</td>\n",
       "      <td>NaN</td>\n",
       "      <td>NaN</td>\n",
       "      <td>Asia</td>\n",
       "    </tr>\n",
       "    <tr>\n",
       "      <th>665095</th>\n",
       "      <td>OM108132.1</td>\n",
       "      <td>2697049</td>\n",
       "      <td>Severe acute respiratory syndrome coronavirus 2</td>\n",
       "      <td>Betacoronavirus</td>\n",
       "      <td>Coronaviridae</td>\n",
       "      <td>SARS-CoV-2/human/CHN/Delta-2/2021</td>\n",
       "      <td>29858</td>\n",
       "      <td>GenBank</td>\n",
       "      <td>complete</td>\n",
       "      <td>Asia; China: Beijing</td>\n",
       "      <td>NaN</td>\n",
       "      <td>NaN</td>\n",
       "      <td>9606</td>\n",
       "      <td>2021-08-11</td>\n",
       "      <td>NaN</td>\n",
       "      <td>NaN</td>\n",
       "      <td>Asia</td>\n",
       "    </tr>\n",
       "  </tbody>\n",
       "</table>\n",
       "</div>"
      ],
      "text/plain": [
       "       Nucleotide Accession  Species Taxonomy Id  \\\n",
       "85804            OM108163.1              2697049   \n",
       "85948            OM061695.1              2697049   \n",
       "251375           OK091006.1              2697049   \n",
       "665095           OM108132.1              2697049   \n",
       "\n",
       "                                           Species Name      Virus Genus  \\\n",
       "85804   Severe acute respiratory syndrome coronavirus 2  Betacoronavirus   \n",
       "85948   Severe acute respiratory syndrome coronavirus 2  Betacoronavirus   \n",
       "251375  Severe acute respiratory syndrome coronavirus 2  Betacoronavirus   \n",
       "665095  Severe acute respiratory syndrome coronavirus 2  Betacoronavirus   \n",
       "\n",
       "         Virus Family                                       Isolate Name  \\\n",
       "85804   Coronaviridae                  SARS-CoV-2/human/CHN/Delta-3/2021   \n",
       "85948   Coronaviridae                  SARS-CoV-2/human/CHN/Delta-1/2021   \n",
       "251375  Coronaviridae  SARS-CoV-2/human/JPN/SARS-CoV-2, B.1.617.2 lin...   \n",
       "665095  Coronaviridae                  SARS-CoV-2/human/CHN/Delta-2/2021   \n",
       "\n",
       "        Nucleotide Length Sequence Type Nuc Completeness  \\\n",
       "85804               29860       GenBank         complete   \n",
       "85948               29858       GenBank         complete   \n",
       "251375              29836       GenBank         complete   \n",
       "665095              29858       GenBank         complete   \n",
       "\n",
       "                Geo Location  US State  Host Name  Host Taxonomy ID  \\\n",
       "85804   Asia; China: Beijing       NaN        NaN              9606   \n",
       "85948   Asia; China: Beijing       NaN        NaN              9606   \n",
       "251375           Asia; Japan       NaN        NaN              9606   \n",
       "665095  Asia; China: Beijing       NaN        NaN              9606   \n",
       "\n",
       "       Collection Date BioProject BioSample Continents  \n",
       "85804       2021-08-14        NaN       NaN       Asia  \n",
       "85948       2021-08-10        NaN       NaN       Asia  \n",
       "251375      2021-08-24        NaN       NaN       Asia  \n",
       "665095      2021-08-11        NaN       NaN       Asia  "
      ]
     },
     "execution_count": 22,
     "metadata": {},
     "output_type": "execute_result"
    }
   ],
   "source": [
    "df[df[\"Isolate Name\"].str.contains(\"Delta\").fillna(False)] #filled na with False to avoid misinterpretation"
   ]
  },
  {
   "cell_type": "markdown",
   "id": "5b919ff7",
   "metadata": {},
   "source": [
    "Same process for omicron variant:"
   ]
  },
  {
   "cell_type": "code",
   "execution_count": 23,
   "id": "f47520a9",
   "metadata": {},
   "outputs": [
    {
     "data": {
      "text/html": [
       "<div>\n",
       "<style scoped>\n",
       "    .dataframe tbody tr th:only-of-type {\n",
       "        vertical-align: middle;\n",
       "    }\n",
       "\n",
       "    .dataframe tbody tr th {\n",
       "        vertical-align: top;\n",
       "    }\n",
       "\n",
       "    .dataframe thead th {\n",
       "        text-align: right;\n",
       "    }\n",
       "</style>\n",
       "<table border=\"1\" class=\"dataframe\">\n",
       "  <thead>\n",
       "    <tr style=\"text-align: right;\">\n",
       "      <th></th>\n",
       "      <th>Nucleotide Accession</th>\n",
       "      <th>Species Taxonomy Id</th>\n",
       "      <th>Species Name</th>\n",
       "      <th>Virus Genus</th>\n",
       "      <th>Virus Family</th>\n",
       "      <th>Isolate Name</th>\n",
       "      <th>Nucleotide Length</th>\n",
       "      <th>Sequence Type</th>\n",
       "      <th>Nuc Completeness</th>\n",
       "      <th>Geo Location</th>\n",
       "      <th>US State</th>\n",
       "      <th>Host Name</th>\n",
       "      <th>Host Taxonomy ID</th>\n",
       "      <th>Collection Date</th>\n",
       "      <th>BioProject</th>\n",
       "      <th>BioSample</th>\n",
       "      <th>Continents</th>\n",
       "    </tr>\n",
       "  </thead>\n",
       "  <tbody>\n",
       "    <tr>\n",
       "      <th>806923</th>\n",
       "      <td>OM095411.1</td>\n",
       "      <td>2697049</td>\n",
       "      <td>Severe acute respiratory syndrome coronavirus 2</td>\n",
       "      <td>Betacoronavirus</td>\n",
       "      <td>Coronaviridae</td>\n",
       "      <td>SARS-CoV-2/human/CHN/Omicron-1/2021</td>\n",
       "      <td>29788</td>\n",
       "      <td>GenBank</td>\n",
       "      <td>complete</td>\n",
       "      <td>Asia; China: Beijing</td>\n",
       "      <td>NaN</td>\n",
       "      <td>NaN</td>\n",
       "      <td>9606</td>\n",
       "      <td>2021-12-08</td>\n",
       "      <td>NaN</td>\n",
       "      <td>NaN</td>\n",
       "      <td>Asia</td>\n",
       "    </tr>\n",
       "  </tbody>\n",
       "</table>\n",
       "</div>"
      ],
      "text/plain": [
       "       Nucleotide Accession  Species Taxonomy Id  \\\n",
       "806923           OM095411.1              2697049   \n",
       "\n",
       "                                           Species Name      Virus Genus  \\\n",
       "806923  Severe acute respiratory syndrome coronavirus 2  Betacoronavirus   \n",
       "\n",
       "         Virus Family                         Isolate Name  Nucleotide Length  \\\n",
       "806923  Coronaviridae  SARS-CoV-2/human/CHN/Omicron-1/2021              29788   \n",
       "\n",
       "       Sequence Type Nuc Completeness          Geo Location  US State  \\\n",
       "806923       GenBank         complete  Asia; China: Beijing       NaN   \n",
       "\n",
       "        Host Name  Host Taxonomy ID Collection Date BioProject BioSample  \\\n",
       "806923        NaN              9606      2021-12-08        NaN       NaN   \n",
       "\n",
       "       Continents  \n",
       "806923       Asia  "
      ]
     },
     "execution_count": 23,
     "metadata": {},
     "output_type": "execute_result"
    }
   ],
   "source": [
    "df[df[\"Isolate Name\"].str.contains(\"Omicron\").fillna(False)]"
   ]
  },
  {
   "cell_type": "markdown",
   "id": "2061eefd",
   "metadata": {},
   "source": [
    "Selecting Nucleotide Accession of reference sequence, omicron sequence, one delta variant sequence and first sequence of north america (as a base) to download:"
   ]
  },
  {
   "cell_type": "code",
   "execution_count": 24,
   "id": "60e8f1a2",
   "metadata": {},
   "outputs": [],
   "source": [
    "Nucleotide_ids = [\"NC_045512.2\",\"OL467832.1\",\"OM061695.1\",\"OM095411.1\"]\n",
    "human_names = [\"reference\",\"base\",\"delta\",\"omicron\"]"
   ]
  },
  {
   "cell_type": "code",
   "execution_count": 25,
   "id": "7381bddf",
   "metadata": {},
   "outputs": [
    {
     "data": {
      "text/html": [
       "<div>\n",
       "<style scoped>\n",
       "    .dataframe tbody tr th:only-of-type {\n",
       "        vertical-align: middle;\n",
       "    }\n",
       "\n",
       "    .dataframe tbody tr th {\n",
       "        vertical-align: top;\n",
       "    }\n",
       "\n",
       "    .dataframe thead th {\n",
       "        text-align: right;\n",
       "    }\n",
       "</style>\n",
       "<table border=\"1\" class=\"dataframe\">\n",
       "  <thead>\n",
       "    <tr style=\"text-align: right;\">\n",
       "      <th></th>\n",
       "      <th>Nucleotide Accession</th>\n",
       "      <th>Species Taxonomy Id</th>\n",
       "      <th>Species Name</th>\n",
       "      <th>Virus Genus</th>\n",
       "      <th>Virus Family</th>\n",
       "      <th>Isolate Name</th>\n",
       "      <th>Nucleotide Length</th>\n",
       "      <th>Sequence Type</th>\n",
       "      <th>Nuc Completeness</th>\n",
       "      <th>Geo Location</th>\n",
       "      <th>US State</th>\n",
       "      <th>Host Name</th>\n",
       "      <th>Host Taxonomy ID</th>\n",
       "      <th>Collection Date</th>\n",
       "      <th>BioProject</th>\n",
       "      <th>BioSample</th>\n",
       "      <th>Continents</th>\n",
       "    </tr>\n",
       "  </thead>\n",
       "  <tbody>\n",
       "    <tr>\n",
       "      <th>0</th>\n",
       "      <td>NC_045512.2</td>\n",
       "      <td>2697049</td>\n",
       "      <td>Severe acute respiratory syndrome coronavirus 2</td>\n",
       "      <td>Betacoronavirus</td>\n",
       "      <td>Coronaviridae</td>\n",
       "      <td>Wuhan-Hu-1</td>\n",
       "      <td>29903</td>\n",
       "      <td>RefSeq</td>\n",
       "      <td>complete</td>\n",
       "      <td>Asia; China</td>\n",
       "      <td>NaN</td>\n",
       "      <td>NaN</td>\n",
       "      <td>9606</td>\n",
       "      <td>2019-12-01</td>\n",
       "      <td>PRJNA485481</td>\n",
       "      <td>NaN</td>\n",
       "      <td>Asia</td>\n",
       "    </tr>\n",
       "    <tr>\n",
       "      <th>85948</th>\n",
       "      <td>OM061695.1</td>\n",
       "      <td>2697049</td>\n",
       "      <td>Severe acute respiratory syndrome coronavirus 2</td>\n",
       "      <td>Betacoronavirus</td>\n",
       "      <td>Coronaviridae</td>\n",
       "      <td>SARS-CoV-2/human/CHN/Delta-1/2021</td>\n",
       "      <td>29858</td>\n",
       "      <td>GenBank</td>\n",
       "      <td>complete</td>\n",
       "      <td>Asia; China: Beijing</td>\n",
       "      <td>NaN</td>\n",
       "      <td>NaN</td>\n",
       "      <td>9606</td>\n",
       "      <td>2021-08-10</td>\n",
       "      <td>NaN</td>\n",
       "      <td>NaN</td>\n",
       "      <td>Asia</td>\n",
       "    </tr>\n",
       "    <tr>\n",
       "      <th>254609</th>\n",
       "      <td>OL467832.1</td>\n",
       "      <td>2697049</td>\n",
       "      <td>Severe acute respiratory syndrome coronavirus 2</td>\n",
       "      <td>Betacoronavirus</td>\n",
       "      <td>Coronaviridae</td>\n",
       "      <td>SARS-CoV-2/human/USA/hCoV_19_USA_ID_IVREF_6520...</td>\n",
       "      <td>29831</td>\n",
       "      <td>GenBank</td>\n",
       "      <td>complete</td>\n",
       "      <td>North America; USA: Bingham, ID</td>\n",
       "      <td>NaN</td>\n",
       "      <td>NaN</td>\n",
       "      <td>9606</td>\n",
       "      <td>2020-03-27</td>\n",
       "      <td>NaN</td>\n",
       "      <td>NaN</td>\n",
       "      <td>North America</td>\n",
       "    </tr>\n",
       "    <tr>\n",
       "      <th>806923</th>\n",
       "      <td>OM095411.1</td>\n",
       "      <td>2697049</td>\n",
       "      <td>Severe acute respiratory syndrome coronavirus 2</td>\n",
       "      <td>Betacoronavirus</td>\n",
       "      <td>Coronaviridae</td>\n",
       "      <td>SARS-CoV-2/human/CHN/Omicron-1/2021</td>\n",
       "      <td>29788</td>\n",
       "      <td>GenBank</td>\n",
       "      <td>complete</td>\n",
       "      <td>Asia; China: Beijing</td>\n",
       "      <td>NaN</td>\n",
       "      <td>NaN</td>\n",
       "      <td>9606</td>\n",
       "      <td>2021-12-08</td>\n",
       "      <td>NaN</td>\n",
       "      <td>NaN</td>\n",
       "      <td>Asia</td>\n",
       "    </tr>\n",
       "  </tbody>\n",
       "</table>\n",
       "</div>"
      ],
      "text/plain": [
       "       Nucleotide Accession  Species Taxonomy Id  \\\n",
       "0               NC_045512.2              2697049   \n",
       "85948            OM061695.1              2697049   \n",
       "254609           OL467832.1              2697049   \n",
       "806923           OM095411.1              2697049   \n",
       "\n",
       "                                           Species Name      Virus Genus  \\\n",
       "0       Severe acute respiratory syndrome coronavirus 2  Betacoronavirus   \n",
       "85948   Severe acute respiratory syndrome coronavirus 2  Betacoronavirus   \n",
       "254609  Severe acute respiratory syndrome coronavirus 2  Betacoronavirus   \n",
       "806923  Severe acute respiratory syndrome coronavirus 2  Betacoronavirus   \n",
       "\n",
       "         Virus Family                                       Isolate Name  \\\n",
       "0       Coronaviridae                                         Wuhan-Hu-1   \n",
       "85948   Coronaviridae                  SARS-CoV-2/human/CHN/Delta-1/2021   \n",
       "254609  Coronaviridae  SARS-CoV-2/human/USA/hCoV_19_USA_ID_IVREF_6520...   \n",
       "806923  Coronaviridae                SARS-CoV-2/human/CHN/Omicron-1/2021   \n",
       "\n",
       "        Nucleotide Length Sequence Type Nuc Completeness  \\\n",
       "0                   29903        RefSeq         complete   \n",
       "85948               29858       GenBank         complete   \n",
       "254609              29831       GenBank         complete   \n",
       "806923              29788       GenBank         complete   \n",
       "\n",
       "                           Geo Location  US State  Host Name  \\\n",
       "0                           Asia; China       NaN        NaN   \n",
       "85948              Asia; China: Beijing       NaN        NaN   \n",
       "254609  North America; USA: Bingham, ID       NaN        NaN   \n",
       "806923             Asia; China: Beijing       NaN        NaN   \n",
       "\n",
       "        Host Taxonomy ID Collection Date   BioProject BioSample     Continents  \n",
       "0                   9606      2019-12-01  PRJNA485481       NaN           Asia  \n",
       "85948               9606      2021-08-10          NaN       NaN           Asia  \n",
       "254609              9606      2020-03-27          NaN       NaN  North America  \n",
       "806923              9606      2021-12-08          NaN       NaN           Asia  "
      ]
     },
     "execution_count": 25,
     "metadata": {},
     "output_type": "execute_result"
    }
   ],
   "source": [
    "selected_sequences = df[df[\"Nucleotide Accession\"].isin(Nucleotide_ids)]\n",
    "selected_sequences"
   ]
  },
  {
   "cell_type": "markdown",
   "id": "0a583556",
   "metadata": {},
   "source": [
    "Using biopython library to download selected sequences"
   ]
  },
  {
   "cell_type": "code",
   "execution_count": 26,
   "id": "91629c4a",
   "metadata": {},
   "outputs": [],
   "source": [
    "from Bio import Entrez\n",
    "Entrez.email=\"add-email-id-here\" "
   ]
  },
  {
   "cell_type": "code",
   "execution_count": 27,
   "id": "2bf51037",
   "metadata": {},
   "outputs": [],
   "source": [
    "def seq_down(idc):\n",
    "    handle = Entrez.esearch(db=\"nucleotide\", term=idc, retmax=\"1\")\n",
    "    record = Entrez.read(handle)\n",
    "    handle = Entrez.efetch(db=\"nucleotide\", id=record[\"IdList\"][0], rettype=\"fasta\", retmode=\"text\")\n",
    "    return handle.read()"
   ]
  },
  {
   "cell_type": "code",
   "execution_count": 28,
   "id": "91c4f9b3",
   "metadata": {},
   "outputs": [],
   "source": [
    "sequence_dict = {}\n",
    "for sequence in Nucleotide_ids:\n",
    "    sequence_dict[sequence] = {\"fasta\":seq_down(sequence)}"
   ]
  },
  {
   "cell_type": "markdown",
   "id": "e106139a",
   "metadata": {},
   "source": [
    "Parsing data of selected Nucleotide_ids"
   ]
  },
  {
   "cell_type": "code",
   "execution_count": 29,
   "id": "452b96fc",
   "metadata": {},
   "outputs": [],
   "source": [
    "from Bio import SeqIO\n",
    "import io"
   ]
  },
  {
   "cell_type": "code",
   "execution_count": 30,
   "id": "ccd1b706",
   "metadata": {},
   "outputs": [],
   "source": [
    "for k,v in sequence_dict.items():\n",
    "    f = io.StringIO(v[\"fasta\"])\n",
    "    sequence_dict[k][\"parsed\"] = list(SeqIO.parse(f,\"fasta\"))[0]"
   ]
  },
  {
   "cell_type": "markdown",
   "id": "f8bc3d2c",
   "metadata": {},
   "source": [
    "Checking parsed data for reference sequence"
   ]
  },
  {
   "cell_type": "code",
   "execution_count": 31,
   "id": "8ce95130",
   "metadata": {},
   "outputs": [
    {
     "data": {
      "text/plain": [
       "SeqRecord(seq=Seq('ATTAAAGGTTTATACCTTCCCAGGTAACAAACCAACCAACTTTCGATCTCTTGT...AAA'), id='NC_045512.2', name='NC_045512.2', description='NC_045512.2 Severe acute respiratory syndrome coronavirus 2 isolate Wuhan-Hu-1, complete genome', dbxrefs=[])"
      ]
     },
     "execution_count": 31,
     "metadata": {},
     "output_type": "execute_result"
    }
   ],
   "source": [
    "sequence_dict[\"NC_045512.2\"][\"parsed\"]"
   ]
  },
  {
   "cell_type": "markdown",
   "id": "982865a2",
   "metadata": {},
   "source": [
    "## Aligning RNA sequences"
   ]
  },
  {
   "cell_type": "code",
   "execution_count": 32,
   "id": "bef42de7",
   "metadata": {},
   "outputs": [],
   "source": [
    "from Bio import Align\n",
    "aligner = Align.PairwiseAligner()"
   ]
  },
  {
   "cell_type": "markdown",
   "id": "77b3fa93",
   "metadata": {},
   "source": [
    "Algorithm used by Aligner is:"
   ]
  },
  {
   "cell_type": "code",
   "execution_count": 33,
   "id": "1e6a09f6",
   "metadata": {},
   "outputs": [
    {
     "data": {
      "text/plain": [
       "'Needleman-Wunsch'"
      ]
     },
     "execution_count": 33,
     "metadata": {},
     "output_type": "execute_result"
    }
   ],
   "source": [
    "aligner.algorithm"
   ]
  },
  {
   "cell_type": "code",
   "execution_count": 34,
   "id": "bcfc382d",
   "metadata": {},
   "outputs": [
    {
     "data": {
      "text/plain": [
       "29818.0"
      ]
     },
     "execution_count": 34,
     "metadata": {},
     "output_type": "execute_result"
    }
   ],
   "source": [
    "score = aligner.score(sequence_dict[\"NC_045512.2\"][\"parsed\"].seq, sequence_dict[\"OM061695.1\"][\"parsed\"].seq)\n",
    "score"
   ]
  },
  {
   "cell_type": "code",
   "execution_count": 35,
   "id": "7c78b40b",
   "metadata": {},
   "outputs": [],
   "source": [
    "ref_length = len(sequence_dict[\"NC_045512.2\"][\"parsed\"].seq)"
   ]
  },
  {
   "cell_type": "code",
   "execution_count": 36,
   "id": "0da7ceb8",
   "metadata": {},
   "outputs": [
    {
     "data": {
      "text/plain": [
       "0.9971574758385446"
      ]
     },
     "execution_count": 36,
     "metadata": {},
     "output_type": "execute_result"
    }
   ],
   "source": [
    "Simlarity_bw_Ref_n_delta = score/ref_length\n",
    "Simlarity_bw_Ref_n_delta"
   ]
  },
  {
   "cell_type": "markdown",
   "id": "ea048231",
   "metadata": {},
   "source": [
    "Similarity percentage between Reference and base nucleotide is 0.9971"
   ]
  },
  {
   "cell_type": "markdown",
   "id": "c033fcce",
   "metadata": {},
   "source": [
    "## Checking alignment across all variants"
   ]
  },
  {
   "cell_type": "code",
   "execution_count": 37,
   "id": "06afabf9",
   "metadata": {},
   "outputs": [
    {
     "data": {
      "text/plain": [
       "array([[0., 0., 0., 0.],\n",
       "       [0., 0., 0., 0.],\n",
       "       [0., 0., 0., 0.],\n",
       "       [0., 0., 0., 0.]])"
      ]
     },
     "execution_count": 37,
     "metadata": {},
     "output_type": "execute_result"
    }
   ],
   "source": [
    "comparisons = np.zeros((4,4))\n",
    "comparisons"
   ]
  },
  {
   "cell_type": "code",
   "execution_count": 38,
   "id": "c08cedee",
   "metadata": {},
   "outputs": [],
   "source": [
    "for i in range(0,4):\n",
    "    for j in range(0,i+1):\n",
    "        score = aligner.score(sequence_dict[Nucleotide_ids[i]][\"parsed\"].seq, sequence_dict[Nucleotide_ids[j]][\"parsed\"].seq)\n",
    "        comparisons[i,j]=score"
   ]
  },
  {
   "cell_type": "code",
   "execution_count": 39,
   "id": "5836c37a",
   "metadata": {},
   "outputs": [],
   "source": [
    "comparisons_df = pd.DataFrame(comparisons, columns=human_names, index=human_names)"
   ]
  },
  {
   "cell_type": "code",
   "execution_count": 40,
   "id": "00b14544",
   "metadata": {},
   "outputs": [
    {
     "data": {
      "text/html": [
       "<div>\n",
       "<style scoped>\n",
       "    .dataframe tbody tr th:only-of-type {\n",
       "        vertical-align: middle;\n",
       "    }\n",
       "\n",
       "    .dataframe tbody tr th {\n",
       "        vertical-align: top;\n",
       "    }\n",
       "\n",
       "    .dataframe thead th {\n",
       "        text-align: right;\n",
       "    }\n",
       "</style>\n",
       "<table border=\"1\" class=\"dataframe\">\n",
       "  <thead>\n",
       "    <tr style=\"text-align: right;\">\n",
       "      <th></th>\n",
       "      <th>reference</th>\n",
       "      <th>base</th>\n",
       "      <th>delta</th>\n",
       "      <th>omicron</th>\n",
       "    </tr>\n",
       "  </thead>\n",
       "  <tbody>\n",
       "    <tr>\n",
       "      <th>reference</th>\n",
       "      <td>29903.0</td>\n",
       "      <td>0.0</td>\n",
       "      <td>0.0</td>\n",
       "      <td>0.0</td>\n",
       "    </tr>\n",
       "    <tr>\n",
       "      <th>base</th>\n",
       "      <td>29820.0</td>\n",
       "      <td>29831.0</td>\n",
       "      <td>0.0</td>\n",
       "      <td>0.0</td>\n",
       "    </tr>\n",
       "    <tr>\n",
       "      <th>delta</th>\n",
       "      <td>29818.0</td>\n",
       "      <td>29775.0</td>\n",
       "      <td>29858.0</td>\n",
       "      <td>0.0</td>\n",
       "    </tr>\n",
       "    <tr>\n",
       "      <th>omicron</th>\n",
       "      <td>29725.0</td>\n",
       "      <td>29722.0</td>\n",
       "      <td>29688.0</td>\n",
       "      <td>29788.0</td>\n",
       "    </tr>\n",
       "  </tbody>\n",
       "</table>\n",
       "</div>"
      ],
      "text/plain": [
       "           reference     base    delta  omicron\n",
       "reference    29903.0      0.0      0.0      0.0\n",
       "base         29820.0  29831.0      0.0      0.0\n",
       "delta        29818.0  29775.0  29858.0      0.0\n",
       "omicron      29725.0  29722.0  29688.0  29788.0"
      ]
     },
     "execution_count": 40,
     "metadata": {},
     "output_type": "execute_result"
    }
   ],
   "source": [
    "comparisons_df"
   ]
  },
  {
   "cell_type": "code",
   "execution_count": 41,
   "id": "40c39edf",
   "metadata": {},
   "outputs": [
    {
     "data": {
      "text/plain": [
       "reference    1.000000\n",
       "base         0.997224\n",
       "delta        0.997157\n",
       "omicron      0.994047\n",
       "Name: reference, dtype: float64"
      ]
     },
     "execution_count": 41,
     "metadata": {},
     "output_type": "execute_result"
    }
   ],
   "source": [
    "comparisons_df.iloc[:,0] / ref_length"
   ]
  },
  {
   "cell_type": "markdown",
   "id": "3eaabffc",
   "metadata": {},
   "source": [
    "#### percentage change between:\n",
    "\n",
    "1) ref and base:      0.2776%\n",
    "2) ref and delta:     0.2843%\n",
    "3) ref and omicron: **0.5953%**\n",
    "4) base and delta:    0.0067%\n",
    "5) base and omicron:  0.3186%\n",
    "6) delta and omicron: 0.3119%\n"
   ]
  },
  {
   "cell_type": "markdown",
   "id": "77e51e4f",
   "metadata": {},
   "source": [
    "## Showing sequences mismatches"
   ]
  },
  {
   "cell_type": "code",
   "execution_count": 42,
   "id": "c8b72394",
   "metadata": {},
   "outputs": [],
   "source": [
    "seq1 = sequence_dict[\"NC_045512.2\"][\"parsed\"].seq\n",
    "seq2 = sequence_dict[\"OM061695.1\"][\"parsed\"].seq"
   ]
  },
  {
   "cell_type": "code",
   "execution_count": 43,
   "id": "f404e174",
   "metadata": {},
   "outputs": [],
   "source": [
    "delta_alignments = aligner.align(seq1,seq2)"
   ]
  },
  {
   "cell_type": "code",
   "execution_count": 44,
   "id": "88ca20af",
   "metadata": {},
   "outputs": [
    {
     "data": {
      "text/plain": [
       "<Bio.Align.PairwiseAlignments at 0x1fd6545d550>"
      ]
     },
     "execution_count": 44,
     "metadata": {},
     "output_type": "execute_result"
    }
   ],
   "source": [
    "delta_alignments  #alignment object"
   ]
  },
  {
   "cell_type": "code",
   "execution_count": 45,
   "id": "7d3781de",
   "metadata": {},
   "outputs": [],
   "source": [
    "delta_alignment = delta_alignments[0]"
   ]
  },
  {
   "cell_type": "code",
   "execution_count": 46,
   "id": "c63f72c0",
   "metadata": {},
   "outputs": [
    {
     "data": {
      "text/plain": [
       "(2, 29943)"
      ]
     },
     "execution_count": 46,
     "metadata": {},
     "output_type": "execute_result"
    }
   ],
   "source": [
    "delta_alignment.shape"
   ]
  },
  {
   "cell_type": "code",
   "execution_count": 47,
   "id": "290d2b87",
   "metadata": {
    "scrolled": true
   },
   "outputs": [
    {
     "data": {
      "text/plain": [
       "array([[[    0,   209],\n",
       "        [  210,   212],\n",
       "        [  212,   240],\n",
       "        [  241,  1047],\n",
       "        [ 1048,  1273],\n",
       "        [ 1274,  1276],\n",
       "        [ 1276,  3036],\n",
       "        [ 3037,  3038],\n",
       "        [ 3038,  4180],\n",
       "        [ 4181,  6401],\n",
       "        [ 6402,  7123],\n",
       "        [ 7123,  7124],\n",
       "        [ 7125,  8985],\n",
       "        [ 8986,  8989],\n",
       "        [ 8989,  9052],\n",
       "        [ 9053,  9054],\n",
       "        [ 9054, 10028],\n",
       "        [10028, 10029],\n",
       "        [10030, 10506],\n",
       "        [10507, 11116],\n",
       "        [11117, 11200],\n",
       "        [11201, 11331],\n",
       "        [11332, 11333],\n",
       "        [11333, 14407],\n",
       "        [14408, 14409],\n",
       "        [14409, 15450],\n",
       "        [15450, 15451],\n",
       "        [15452, 16465],\n",
       "        [16466, 19219],\n",
       "        [19220, 19221],\n",
       "        [19221, 21617],\n",
       "        [21618, 21986],\n",
       "        [21987, 22028],\n",
       "        [22029, 22030],\n",
       "        [22033, 22035],\n",
       "        [22037, 22916],\n",
       "        [22917, 22918],\n",
       "        [22918, 22994],\n",
       "        [22995, 22996],\n",
       "        [22996, 23402],\n",
       "        [23403, 23603],\n",
       "        [23604, 24409],\n",
       "        [24410, 24411],\n",
       "        [24411, 25087],\n",
       "        [25088, 25090],\n",
       "        [25090, 25351],\n",
       "        [25352, 25353],\n",
       "        [25353, 25468],\n",
       "        [25469, 26423],\n",
       "        [26424, 26425],\n",
       "        [26425, 26766],\n",
       "        [26767, 26768],\n",
       "        [26768, 27526],\n",
       "        [27527, 27637],\n",
       "        [27637, 27639],\n",
       "        [27640, 27751],\n",
       "        [27752, 27873],\n",
       "        [27874, 27876],\n",
       "        [27876, 28247],\n",
       "        [28248, 28250],\n",
       "        [28252, 28253],\n",
       "        [28254, 28255],\n",
       "        [28257, 28273],\n",
       "        [28274, 28460],\n",
       "        [28461, 28880],\n",
       "        [28880, 28883],\n",
       "        [28884, 28915],\n",
       "        [28915, 28916],\n",
       "        [28917, 29401],\n",
       "        [29402, 29741],\n",
       "        [29742, 29871]],\n",
       "\n",
       "       [[    0,   209],\n",
       "        [  209,   211],\n",
       "        [  212,   240],\n",
       "        [  241,  1047],\n",
       "        [ 1048,  1273],\n",
       "        [ 1273,  1275],\n",
       "        [ 1276,  3036],\n",
       "        [ 3036,  3037],\n",
       "        [ 3038,  4180],\n",
       "        [ 4181,  6401],\n",
       "        [ 6402,  7123],\n",
       "        [ 7124,  7125],\n",
       "        [ 7125,  8985],\n",
       "        [ 8985,  8988],\n",
       "        [ 8989,  9052],\n",
       "        [ 9052,  9053],\n",
       "        [ 9054, 10028],\n",
       "        [10029, 10030],\n",
       "        [10030, 10506],\n",
       "        [10507, 11116],\n",
       "        [11117, 11200],\n",
       "        [11201, 11331],\n",
       "        [11331, 11332],\n",
       "        [11333, 14407],\n",
       "        [14407, 14408],\n",
       "        [14409, 15450],\n",
       "        [15451, 15452],\n",
       "        [15452, 16465],\n",
       "        [16466, 19219],\n",
       "        [19219, 19220],\n",
       "        [19221, 21617],\n",
       "        [21618, 21986],\n",
       "        [21987, 22028],\n",
       "        [22028, 22029],\n",
       "        [22029, 22031],\n",
       "        [22031, 22910],\n",
       "        [22910, 22911],\n",
       "        [22912, 22988],\n",
       "        [22988, 22989],\n",
       "        [22990, 23396],\n",
       "        [23397, 23597],\n",
       "        [23598, 24403],\n",
       "        [24403, 24404],\n",
       "        [24405, 25081],\n",
       "        [25081, 25083],\n",
       "        [25084, 25345],\n",
       "        [25345, 25346],\n",
       "        [25347, 25462],\n",
       "        [25463, 26417],\n",
       "        [26417, 26418],\n",
       "        [26419, 26760],\n",
       "        [26760, 26761],\n",
       "        [26762, 27520],\n",
       "        [27521, 27631],\n",
       "        [27632, 27634],\n",
       "        [27634, 27745],\n",
       "        [27746, 27867],\n",
       "        [27867, 27869],\n",
       "        [27870, 28241],\n",
       "        [28241, 28243],\n",
       "        [28243, 28244],\n",
       "        [28244, 28245],\n",
       "        [28245, 28261],\n",
       "        [28261, 28447],\n",
       "        [28448, 28867],\n",
       "        [28868, 28871],\n",
       "        [28871, 28902],\n",
       "        [28903, 28904],\n",
       "        [28904, 29388],\n",
       "        [29389, 29728],\n",
       "        [29729, 29858]]])"
      ]
     },
     "execution_count": 47,
     "metadata": {},
     "output_type": "execute_result"
    }
   ],
   "source": [
    "delta_alignment.aligned"
   ]
  },
  {
   "cell_type": "code",
   "execution_count": 48,
   "id": "8401df82",
   "metadata": {
    "scrolled": true
   },
   "outputs": [
    {
     "name": "stdout",
     "output_type": "stream",
     "text": [
      "1: G\n",
      "2: \n",
      "1: \n",
      "2: T\n",
      "1: C\n",
      "2: T\n",
      "1: G\n",
      "2: T\n",
      "1: G\n",
      "2: \n",
      "1: \n",
      "2: T\n",
      "1: C\n",
      "2: \n",
      "1: \n",
      "2: T\n",
      "1: G\n",
      "2: T\n",
      "1: C\n",
      "2: T\n",
      "1: \n",
      "2: T\n",
      "1: C\n",
      "2: \n",
      "1: C\n",
      "2: \n",
      "1: \n",
      "2: T\n",
      "1: G\n",
      "2: \n",
      "1: \n",
      "2: T\n",
      "1: \n",
      "2: T\n",
      "1: C\n",
      "2: \n",
      "1: C\n",
      "2: T\n",
      "1: A\n",
      "2: R\n",
      "1: A\n",
      "2: G\n",
      "1: A\n",
      "2: \n",
      "1: \n",
      "2: G\n",
      "1: C\n",
      "2: \n",
      "1: \n",
      "2: T\n",
      "1: \n",
      "2: A\n",
      "1: G\n",
      "2: \n",
      "1: C\n",
      "2: T\n",
      "1: C\n",
      "2: \n",
      "1: \n",
      "2: T\n",
      "1: C\n",
      "2: G\n",
      "1: G\n",
      "2: A\n",
      "1: A\n",
      "2: \n",
      "1: TTC\n",
      "2: \n",
      "1: AG\n",
      "2: \n",
      "1: T\n",
      "2: \n",
      "1: \n",
      "2: G\n",
      "1: C\n",
      "2: \n",
      "1: \n",
      "2: A\n",
      "1: A\n",
      "2: G\n",
      "1: C\n",
      "2: G\n",
      "1: G\n",
      "2: \n",
      "1: \n",
      "2: A\n",
      "1: G\n",
      "2: \n",
      "1: \n",
      "2: T\n",
      "1: G\n",
      "2: \n",
      "1: \n",
      "2: T\n",
      "1: C\n",
      "2: T\n",
      "1: T\n",
      "2: \n",
      "1: \n",
      "2: C\n",
      "1: T\n",
      "2: \n",
      "1: \n",
      "2: C\n",
      "1: C\n",
      "2: T\n",
      "1: \n",
      "2: C\n",
      "1: T\n",
      "2: \n",
      "1: C\n",
      "2: T\n",
      "1: C\n",
      "2: \n",
      "1: \n",
      "2: T\n",
      "1: G\n",
      "2: \n",
      "1: TT\n",
      "2: \n",
      "1: A\n",
      "2: \n",
      "1: CT\n",
      "2: \n",
      "1: A\n",
      "2: \n",
      "1: A\n",
      "2: G\n",
      "1: \n",
      "2: T\n",
      "1: G\n",
      "2: \n",
      "1: \n",
      "2: T\n",
      "1: G\n",
      "2: \n",
      "1: G\n",
      "2: T\n",
      "1: G\n",
      "2: T\n"
     ]
    }
   ],
   "source": [
    "seq1_end = None\n",
    "seq2_end = None\n",
    "\n",
    "for alignments in zip(delta_alignment.aligned[0],delta_alignment.aligned[1]):\n",
    "    if seq1_end and seq2_end:\n",
    "        seq1_mismatch = seq1[seq1_end: alignments[0][0]]\n",
    "        seq2_mismatch = seq2[seq2_end: alignments[1][0]]\n",
    "        print(f\"1: {seq1_mismatch}\")\n",
    "        print(f\"2: {seq2_mismatch}\")\n",
    "        \n",
    "    seq1_end = alignments[0][1]\n",
    "    seq2_end = alignments[1][1]      "
   ]
  },
  {
   "cell_type": "markdown",
   "id": "c32ad8ca",
   "metadata": {},
   "source": [
    "## Color coding mismatches"
   ]
  },
  {
   "cell_type": "code",
   "execution_count": 49,
   "id": "062dfcc3",
   "metadata": {},
   "outputs": [],
   "source": [
    "from IPython.display import display, HTML"
   ]
  },
  {
   "cell_type": "code",
   "execution_count": 50,
   "id": "9f5b0626",
   "metadata": {},
   "outputs": [],
   "source": [
    "def color_print(s, color=\"black\"):\n",
    "    return f\"<span style='color:{color}'>{s}</span>\""
   ]
  },
  {
   "cell_type": "code",
   "execution_count": 51,
   "id": "2e54966d",
   "metadata": {},
   "outputs": [],
   "source": [
    "seq1_end = None\n",
    "seq2_end = None\n",
    "display_s = []\n",
    "\n",
    "for alignments in zip(delta_alignment.aligned[0],delta_alignment.aligned[1]):\n",
    "    \n",
    "    if seq1_end and seq2_end:\n",
    "        seq1_mismatch = seq1[seq1_end: alignments[0][0]]\n",
    "        seq2_mismatch = seq2[seq2_end: alignments[1][0]]\n",
    "        \n",
    "        if len(seq2_mismatch)==0:\n",
    "            display_s.append(color_print(seq1_mismatch,\"red\"))\n",
    "        elif len(seq1_mismatch)==0:\n",
    "            display_s.append(color_print(seq2_mismatch,\"green\"))\n",
    "        else:\n",
    "            display_s.append(color_print(seq2_mismatch,\"blue\"))\n",
    "    \n",
    "    display_s.append(seq1[alignments[0][0]:alignments[0][1]])\n",
    "            \n",
    "    seq1_end = alignments[0][1]\n",
    "    seq2_end = alignments[1][1]   "
   ]
  },
  {
   "cell_type": "code",
   "execution_count": 52,
   "id": "b738c2ec",
   "metadata": {},
   "outputs": [],
   "source": [
    "display_seq = [str(i) for i in display_s]"
   ]
  },
  {
   "cell_type": "markdown",
   "id": "61ee47e7",
   "metadata": {},
   "source": [
    "<figure>\n",
    " <img src=\"dvr.jpg\"   style=\"width:500px;height:500px;\">\n",
    "</figure>\n",
    "\n",
    "                                      image source: https://biologydictionary.net"
   ]
  },
  {
   "cell_type": "markdown",
   "id": "fd7ae530",
   "metadata": {},
   "source": [
    "<figure>\n",
    " <img src=\"vaccine.png\"   style=\"width:500px;height:300px;\">\n",
    "</figure>\n",
    "\n",
    "                                        image source: National Human Genome Research Institute"
   ]
  },
  {
   "cell_type": "markdown",
   "id": "1c721247",
   "metadata": {},
   "source": [
    "<figure>\n",
    " <img src=\"RNA.svg\"   style=\"width:1000px;height:300px;\">\n",
    "</figure>\n",
    "\n",
    "                                           image source: Thomas Splettstoesser"
   ]
  },
  {
   "cell_type": "code",
   "execution_count": 53,
   "id": "307e34dc",
   "metadata": {},
   "outputs": [
    {
     "data": {
      "text/html": [
       "ATTAAAGGTTTATACCTTCCCAGGTAACAAACCAACCAACTTTCGATCTCTTGTAGATCTGTTCTCTAAACGAACTTTAAAATCTGTGTGGCTGTCACTCGGCTGCATGCTTAGTGCACTCACGCAGTATAATTAATAACTAATTACTGTCGTTGACAGGACACGAGTAACTCGTCTATCTTCTGCAGGCTGCTTACGGTTTCGTCCGT<br><span style='color:red'>G</span><br>TT<br><span style='color:green'>T</span><br>GCAGCCGATCATCAGCACATCTAGGTTT<br><span style='color:blue'>T</span><br>GTCCGGGTGTGACCGAAAGGTAAGATGGAGAGCCTTGTCCCTGGTTTCAACGAGAAAACACACGTCCAACTCAGTTTGCCTGTTTTACAGGTTCGCGACGTGCTCGTACGTGGCTTTGGAGACTCCGTGGAGGAGGTCTTATCAGAGGCACGTCAACATCTTAAAGATGGCACTTGTGGCTTAGTAGAAGTTGAAAAAGGCGTTTTGCCTCAACTTGAACAGCCCTATGTGTTCATCAAACGTTCGGATGCTCGAACTGCACCTCATGGTCATGTTATGGTTGAGCTGGTAGCAGAACTCGAAGGCATTCAGTACGGTCGTAGTGGTGAGACACTTGGTGTCCTTGTCCCTCATGTGGGCGAAATACCAGTGGCTTACCGCAAGGTTCTTCTTCGTAAGAACGGTAATAAAGGAGCTGGTGGCCATAGTTACGGCGCCGATCTAAAGTCATTTGACTTAGGCGACGAGCTTGGCACTGATCCTTATGAAGATTTTCAAGAAAACTGGAACACTAAACATAGCAGTGGTGTTACCCGTGAACTCATGCGTGAGCTTAACGGAGGGGCATACACTCGCTATGTCGATAACAACTTCTGTGGCCCTGATGGCTACCCTCTTGAGTGCATTAAAGACCTTCTAGCACGTGCTGGTAAAGCTTCATGCACTTTGTCCGAACAACTGGACTTTATTGACACTAAGAGGGGTGTATACTGCTGCCGTGAACATGAGCATGAAATTGCTTGGTACACGGAACGTTCTGAAAAGAGCTATGAATTGCAGACACCTTTTGAAATTAAATTGGCAAA<br><span style='color:blue'>T</span><br>AAATTTGACACCTTCAATGGGGAATGTCCAAATTTTGTATTTCCCTTAAATTCCATAATCAAGACTATTCAACCAAGGGTTGAAAAGAAAAAGCTTGATGGCTTTATGGGTAGAATTCGATCTGTCTATCCAGTTGCGTCACCAAATGAATGCAACCAAATGTGCCTTTCAACTCTCATGAAGTGTGATCATTGTGGTGAAACTTCATGGCAGACGGGCGATTTT<br><span style='color:red'>G</span><br>TT<br><span style='color:green'>T</span><br>AAAGCCACTTGCGAATTTTGTGGCACTGAGAATTTGACTAAAGAAGGTGCCACTACTTGTGGTTACTTACCCCAAAATGCTGTTGTTAAAATTTATTGTCCAGCATGTCACAATTCAGAAGTAGGACCTGAGCATAGTCTTGCCGAATACCATAATGAATCTGGCTTGAAAACCATTCTTCGTAAGGGTGGTCGCACTATTGCCTTTGGAGGCTGTGTGTTCTCTTATGTTGGTTGCCATAACAAGTGTGCCTATTGGGTTCCACGTGCTAGCGCTAACATAGGTTGTAACCATACAGGTGTTGTTGGAGAAGGTTCCGAAGGTCTTAATGACAACCTTCTTGAAATACTCCAAAAAGAGAAAGTCAACATCAATATTGTTGGTGACTTTAAACTTAATGAAGAGATCGCCATTATTTTGGCATCTTTTTCTGCTTCCACAAGTGCTTTTGTGGAAACTGTGAAAGGTTTGGATTATAAAGCATTCAAACAAATTGTTGAATCCTGTGGTAATTTTAAAGTTACAAAAGGAAAAGCTAAAAAAGGTGCCTGGAATATTGGTGAACAGAAATCAATACTGAGTCCTCTTTATGCATTTGCATCAGAGGCTGCTCGTGTTGTACGATCAATTTTCTCCCGCACTCTTGAAACTGCTCAAAATTCTGTGCGTGTTTTACAGAAGGCCGCTATAACAATACTAGATGGAATTTCACAGTATTCACTGAGACTCATTGATGCTATGATGTTCACATCTGATTTGGCTACTAACAATCTAGTTGTAATGGCCTACATTACAGGTGGTGTTGTTCAGTTGACTTCGCAGTGGCTAACTAACATCTTTGGCACTGTTTATGAAAAACTCAAACCCGTCCTTGATTGGCTTGAAGAGAAGTTTAAGGAAGGTGTAGAGTTTCTTAGAGACGGTTGGGAAATTGTTAAATTTATCTCAACCTGTGCTTGTGAAATTGTCGGTGGACAAATTGTCACCTGTGCAAAGGAAATTAAGGAGAGTGTTCAGACATTCTTTAAGCTTGTAAATAAATTTTTGGCTTTGTGTGCTGACTCTATCATTATTGGTGGAGCTAAACTTAAAGCCTTGAATTTAGGTGAAACATTTGTCACGCACTCAAAGGGATTGTACAGAAAGTGTGTTAAATCCAGAGAAGAAACTGGCCTACTCATGCCTCTAAAAGCCCCAAAAGAAATTATCTTCTTAGAGGGAGAAACACTTCCCACAGAAGTGTTAACAGAGGAAGTTGTCTTGAAAACTGGTGATTTACAACCATTAGAACAACCTACTAGTGAAGCTGTTGAAGCTCCATTGGTTGGTACACCAGTTTGTATTAACGGGCTTATGTTGCTCGAAATCAAAGACACAGAAAAGTACTGTGCCCTTGCACCTAATATGATGGTAACAAACAATACCTTCACACTCAAAGGCGGTGCACCAACAAAGGTTACTTTTGGTGATGACACTGTGATAGAAGTGCAAGGTTACAAGAGTGTGAATATCACTTTTGAACTTGATGAAAGGATTGATAAAGTACTTAATGAGAAGTGCTCTGCCTATACAGTTGAACTCGGTACAGAAGTAAATGAGTTCGCCTGTGTTGTGGCAGATGCTGTCATAAAAACTTTGCAACCAGTATCTGAATTACTTACACCACTGGGCATTGATTTAGATGAGTGGAGTATGGCTACATACTACTTATTTGATGAGTCTGGTGAGTTTAAATTGGCTTCACATATGTATTGTTCTTT<br><span style='color:red'>C</span><br>T<br><span style='color:green'>T</span><br>ACCCTCCAGATGAGGATGAAGAAGAAGGTGATTGTGAAGAAGAAGAGTTTGAGCCATCAACTCAATATGAGTATGGTACTGAAGATGATTACCAAGGTAAACCTTTGGAATTTGGTGCCACTTCTGCTGCTCTTCAACCTGAAGAAGAGCAAGAAGAAGATTGGTTAGATGATGATAGTCAACAAACTGTTGGTCAACAAGACGGCAGTGAGGACAATCAGACAACTACTATTCAAACAATTGTTGAGGTTCAACCTCAATTAGAGATGGAACTTACACCAGTTGTTCAGACTATTGAAGTGAATAGTTTTAGTGGTTATTTAAAACTTACTGACAATGTATACATTAAAAATGCAGACATTGTGGAAGAAGCTAAAAAGGTAAAACCAACAGTGGTTGTTAATGCAGCCAATGTTTACCTTAAACATGGAGGAGGTGTTGCAGGAGCCTTAAATAAGGCTACTAACAATGCCATGCAAGTTGAATCTGATGATTACATAGCTACTAATGGACCACTTAAAGTGGGTGGTAGTTGTGTTTTAAGCGGACACAATCTTGCTAAACACTGTCTTCATGTTGTCGGCCCAAATGTTAACAAAGGTGAAGACATTCAACTTCTTAAGAGTGCTTATGAAAATTTTAATCAGCACGAAGTTCTACTTGCACCATTATTATCAGCTGGTATTTTTGGTGCTGACCCTATACATTCTTTAAGAGTTTGTGTAGATACTGTTCGCACAAATGTCTACTTAGCTGTCTTTGATAAAAATCTCTATGACAAACTTGTTTCAAGCTTTTTGGAAATGAAGAGTGAAAAGCAAGTTGAACAAAAGATCGCTGAGATTCCTAAAGAGGAAGTTAAGCCATTTATAACTGAAAGTAAACCTTCAGTTGAACAGAGAAAACAAGATGATAAGAAAATCAAAGCTTGTGTTGAAGAAGTTACAACAACTCTGGAAGAAACTAAGTTCCTCACAGAAAACTTGTTACTTTATATTGACATTAATGGCAATCTTCATCCAGATTCTGCCACTCTTGTTAGTGACATTGACATCACTTTCTTAAAGAAAGATGCTCCATATATAGTGGGTGATGTTGTTCAAGAGGGTGTTTTAACTGCTGTGGTTATACCTACTAAAAAG<br><span style='color:blue'>T</span><br>CTGGTGGCACTACTGAAATGCTAGCGAAAGCTTTGAGAAAAGTGCCAACAGACAATTATATAACCACTTACCCGGGTCAGGGTTTAAATGGTTACACTGTAGAGGAGGCAAAGACAGTGCTTAAAAAGTGTAAAAGTGCCTTTTACATTCTACCATCTATTATCTCTAATGAGAAGCAAGAAATTCTTGGAACTGTTTCTTGGAATTTGCGAGAAATGCTTGCACATGCAGAAGAAACACGCAAATTAATGCCTGTCTGTGTGGAAACTAAAGCCATAGTTTCAACTATACAGCGTAAATATAAGGGTATTAAAATACAAGAGGGTGTGGTTGATTATGGTGCTAGATTTTACTTTTACACCAGTAAAACAACTGTAGCGTCACTTATCAACACACTTAACGATCTAAATGAAACTCTTGTTACAATGCCACTTGGCTATGTAACACATGGCTTAAATTTGGAAGAAGCTGCTCGGTATATGAGATCTCTCAAAGTGCCAGCTACAGTTTCTGTTTCTTCACCTGATGCTGTTACAGCGTATAATGGTTATCTTACTTCTTCTTCTAAAACACCTGAAGAACATTTTATTGAAACCATCTCACTTGCTGGTTCCTATAAAGATTGGTCCTATTCTGGACAATCTACACAACTAGGTATAGAATTTCTTAAGAGAGGTGATAAAAGTGTATATTACACTAGTAATCCTACCACATTCCACCTAGATGGTGAAGTTATCACCTTTGACAATCTTAAGACACTTCTTTCTTTGAGAGAAGTGAGGACTATTAAGGTGTTTACAACAGTAGACAACATTAACCTCCACACGCAAGTTGTGGACATGTCAATGACATATGGACAACAGTTTGGTCCAACTTATTTGGATGGAGCTGATGTTACTAAAATAAAACCTCATAATTCACATGAAGGTAAAACATTTTATGTTTTACCTAATGATGACACTCTACGTGTTGAGGCTTTTGAGTACTACCACACAACTGATCCTAGTTTTCTGGGTAGGTACATGTCAGCATTAAATCACACTAAAAAGTGGAAATACCCACAAGTTAATGGTTTAACTTCTATTAAATGGGCAGATAACAACTGTTATCTTGCCACTGCATTGTTAACACTCCAACAAATAGAGTTGAAGTTTAATCCACCTGCTCTACAAGATGCTTATTACAGAGCAAGGGCTGGTGAAGCTGCTAACTTTTGTGCACTTATCTTAGCCTACTGTAATAAGACAGTAGGTGAGTTAGGTGATGTTAGAGAAACAATGAGTTACTTGTTTCAACATGCCAATTTAGATTCTTGCAAAAGAGTCTTGAACGTGGTGTGTAAAACTTGTGGACAACAGCAGACAACCCTTAAGGGTGTAGAAGCTGTTATGTACATGGGCACACTTTCTTATGAACAATTTAAGAAAGGTGTTCAGATACCTTGTACGTGTGGTAAACAAGCTACAAAATATCTAGTACAACAGGAGTCACCTTTTGTTATGATGTCAGCACCACCTGCTCAGTATGAACTTAAGCATGGTACATTTACTTGTGCTAGTGAGTACACTGGTAATTACCAGTGTGGTCACTATAAACATATAACTTCTAAAGAAACTTTGTATTGCATAGACGGTGCTTTACTTACAAAGTCCTCAGAATACAAAGGTCCTATTACGGATGTTTTCTACAAAGAAAACAGTTACACAACAACCATAAAACCAGTTACTTATAAATTGGATGGTGTTGTTTGTACAGAAATTGACCCTAAGTTGGACAATTATTATAAGAAAGACAATTCTTATTTCACAGAGCAACCAATTGATCTTGTACCAAACCAACCATATCCAAACGCAAGCTTCGATAATTTTAAGTTTGTATGTGATAATATCAAATTTGCTGATGATTTAAACCAGTTAACTGGTTATAAGAAACCTGCTTCAAGAGAGCTTAAAGTTACATTTTTCCCTGACTTAAATGGTGATGTGGTGGCTATTGATTATAAACACTACACACCCTCTTTTAAGAAAGGAGCTAAATTGTTACATAAACCTATTGTTTGGCATGTTAACAATGCAACTAATAAAGCCACGTATAAACCAAATACCTGGTGTATACGTTGTCTTTGGAGCACAAAACCAGTTGAAACATCAAATTCGTTTGATGTACTGAAGTCAGAGGACGCGCAGGGAATGGATAATCTTGCCTGCGAAGATCTAAAAC<br><span style='color:blue'>T</span><br>AGTCTCTGAAGAAGTAGTGGAAAATCCTACCATACAGAAAGACGTTCTTGAGTGTAATGTGAAAACTACCGAAGTTGTAGGAGACATTATACTTAAACCAGCAAATAATAGTTTAAAAATTACAGAAGAGGTTGGCCACACAGATCTAATGGCTGCTTATGTAGACAATTCTAGTCTTACTATTAAGAAACCTAATGAATTATCTAGAGTATTAGGTTTGAAAACCCTTGCTACTCATGGTTTAGCTGCTGTTAATAGTGTCCCTTGGGATACTATAGCTAATTATGCTAAGCCTTTTCTTAACAAAGTTGTTAGTACAACTACTAACATAGTTACACGGTGTTTAAACCGTGTTTGTACTAATTATATGCCTTATTTCTTTACTTTATTGCTACAATTGTGTACTTTTACTAGAAGTACAAATTCTAGAATTAAAGCATCTATGCCGACTACTATAGCAAAGAATACTGTTAAGAGTGTCGGTAAATTTTGTCTAGAGGCTTCATTTAATTATTTGAAGTCACCTAATTTTTCTAAACTGATAAATATTATAATTTGGTTTTTACTATTAAGTGTTTGCCTAGGTTCTTTAATCTACTCAACCGCTGCTTTAGGTGTTTTAATGTCTAATTTAGGCATGCCTTCTTACTGTACTGGTTACAGAGAAGGCTATTTGAACTCTACTAATGTCACTATTGCAACCTACTGTACTGGTTCTATA<br><span style='color:green'>T</span><br>C<br><span style='color:red'>C</span><br>TTGTAGTGTTTGTCTTAGTGGTTTAGATTCTTTAGACACCTATCCTTCTTTAGAAACTATACAAATTACCATTTCATCTTTTAAATGGGATTTAACTGCTTTTGGCTTAGTTGCAGAGTGGTTTTTGGCATATATTCTTTTCACTAGGTTTTTCTATGTACTTGGATTGGCTGCAATCATGCAATTGTTTTTCAGCTATTTTGCAGTACATTTTATTAGTAATTCTTGGCTTATGTGGTTAATAATTAATCTTGTACAAATGGCCCCGATTTCAGCTATGGTTAGAATGTACATCTTCTTTGCATCATTTTATTATGTATGGAAAAGTTATGTGCATGTTGTAGACGGTTGTAATTCATCAACTTGTATGATGTGTTACAAACGTAATAGAGCAACAAGAGTCGAATGTACAACTATTGTTAATGGTGTTAGAAGGTCCTTTTATGTCTATGCTAATGGAGGTAAAGGCTTTTGCAAACTACACAATTGGAATTGTGTTAATTGTGATACATTCTGTGCTGGTAGTACATTTATTAGTGATGAAGTTGCGAGAGACTTGTCACTACAGTTTAAAAGACCAATAAATCCTACTGACCAGTCTTCTTACATCGTTGATAGTGTTACAGTGAAGAATGGTTCCATCCATCTTTACTTTGATAAAGCTGGTCAAAAGACTTATGAAAGACATTCTCTCTCTCATTTTGTTAACTTAGACAACCTGAGAGCTAATAACACTAAAGGTTCATTGCCTATTAATGTTATAGTTTTTGATGGTAAATCAAAATGTGAAGAATCATCTGCAAAATCAGCGTCTGTTTACTACAGTCAGCTTATGTGTCAACCTATACTGTTACTAGATCAGGCATTAGTGTCTGATGTTGGTGATAGTGCGGAAGTTGCAGTTAAAATGTTTGATGCTTACGTTAATACGTTTTCATCAACTTTTAACGTACCAATGGAAAAACTCAAAACACTAGTTGCAACTGCAGAAGCTGAACTTGCAAAGAATGTGTCCTTAGACAATGTCTTATCTACTTTTATTTCAGCAGCTCGGCAAGGGTTTGTTGATTCAGATGTAGAAACTAAAGATGTTGTTGAATGTCTTAAATTGTCACATCAATCTGACATAGAAGTTACTGGCGATAGTTGTAATAACTATATGCTCACCTATAACAAAGTTGAAAACATGACACCCCGTGACCTTGGTGCTTGTATTGACTGTAGTGCGCGTCATATTAATGCGCAGGTAGCAAAAAGTCACAACATTGCTTTGATATGGAACGTTAAAGATTTCATGTCATTGTCTGAACAACTACGAAAACAAATACGTAGTGCTGCTAAAAAGAATAACTTACCTTTTAAGTTGACATGTGCAACTACTAGACAAGTTGTTAATGTTGTAACAACAAAGATAGCACTTAAGGGTGGTAAAATTGTTAATAATTGGTTGAAGCAGTTAATTAAAGTTACACTTGTGTTCCTTTTTGTTGCTGCTATTTTCTATTTAATAACACCTGTTCATGTCATGTCTAAACATACTGACTTTTCAAGTGAAATCATAGGATACAAGGCTATTGATGGTGGTGTCACTCGTGACATAGCATCTACAGATACTTGTTTTGCTAACAAACATGCTGATTTTGACACATGGTTTAGCCAGCGTGGTGGTAGTTATACTAATGACAAAGCTTGCCCATTGATTGCTGCAGTCATAACAAGAGAAGTGGGTTTTGTCGTGCCTGGTTTGCCTGGCACGATATTACGCACAACTAATGGTGACTTTTTGCATTTCTTACCTAGAGTTTTTAGTGCAGTTGGTAACATCTGTTACACACCATCAAAACTTATAGAGTACACTGA<br><span style='color:red'>C</span><br>TTT<br><span style='color:green'>T</span><br>GCAACATCAGCTTGTGTTTTGGCTGCTGAATGTACAATTTTTAAAGATGCTTCTGGTAAGCCA<br><span style='color:red'>G</span><br>T<br><span style='color:green'>T</span><br>ACCATATTGTTATGATACCAATGTACTAGAAGGTTCTGTTGCTTATGAAAGTTTACGCCCTGACACACGTTATGTGCTCATGGATGGCTCTATTATTCAATTTCCTAACACCTACCTTGAAGGTTCTGTTAGAGTGGTAACAACTTTTGATTCTGAGTACTGTAGGCACGGCACTTGTGAAAGATCAGAAGCTGGTGTTTGTGTATCTACTAGTGGTAGATGGGTACTTAACAATGATTATTACAGATCTTTACCAGGAGTTTTCTGTGGTGTAGATGCTGTAAATTTACTTACTAATATGTTTACACCACTAATTCAACCTATTGGTGCTTTGGACATATCAGCATCTATAGTAGCTGGTGGTATTGTAGCTATCGTAGTAACATGCCTTGCCTACTATTTTATGAGGTTTAGAAGAGCTTTTGGTGAATACAGTCATGTAGTTGCCTTTAATACTTTACTATTCCTTATGTCATTCACTGTACTCTGTTTAACACCAGTTTACTCATTCTTACCTGGTGTTTATTCTGTTATTTACTTGTACTTGACATTTTATCTTACTAATGATGTTTCTTTTTTAGCACATATTCAGTGGATGGTTATGTTCACACCTTTAGTACCTTTCTGGATAACAATTGCTTATATCATTTGTATTTCCACAAAGCATTTCTATTGGTTCTTTAGTAATTACCTAAAGAGACGTGTAGTCTTTAATGGTGTTTCCTTTAGTACTTTTGAAGAAGCTGCGCTGTGCACCTTTTTGTTAAATAAAGAAATGTATCTAAAGTTGCGTAGTGATGTGCTATTACCTCTTACGCAATATAATAGATACTTAGCTCTTTATAATAAGTACAAGTATTTTAGTGGAGCAATGGATACAACTAGCTACAGAGAAGCTGCTTGTTGTCATCTCGCAAAGGCTCTCAATGACTTCAGTAACTCAGGTTCTGATGTTCTTTACCAACCACCACAAA<br><span style='color:green'>T</span><br>C<br><span style='color:red'>C</span><br>TCTATCACCTCAGCTGTTTTGCAGAGTGGTTTTAGAAAAATGGCATTCCCATCTGGTAAAGTTGAGGGTTGTATGGTACAAGTAACTTGTGGTACAACTACACTTAACGGTCTTTGGCTTGATGACGTAGTTTACTGTCCAAGACATGTGATCTGCACCTCTGAAGACATGCTTAACCCTAATTATGAAGATTTACTCATTCGTAAGTCTAATCATAATTTCTTGGTACAGGCTGGTAATGTTCAACTCAGGGTTATTGGACATTCTATGCAAAATTGTGTACTTAAGCTTAAGGTTGATACAGCCAATCCTAAGACACCTAAGTATAAGTTTGTTCGCATTCAACCAGGACAGACTTTTTCAGTGTTAGCTTGTTACAATGGTTCACCATCTGGTGTTTACCAATGTGCTATGAGGCCCAATTTCACTATTAAGGGTTCATTCCTTAATGGTTCATGTGGTAGTGTTGGTTTTAA<br><span style='color:blue'>T</span><br>ATAGATTATGACTGTGTCTCTTTTTGTTACATGCACCATATGGAATTACCAACTGGAGTTCATGCTGGCACAGACTTAGAAGGTAACTTTTATGGACCTTTTGTTGACAGGCAAACAGCACAAGCAGCTGGTACGGACACAACTATTACAGTTAATGTTTTAGCTTGGTTGTACGCTGCTGTTATAAATGGAGACAGGTGGTTTCTCAATCGATTTACCACAACTCTTAATGACTTTAACCTTGTGGCTATGAAGTACAATTATGAACCTCTAACACAAGACCATGTTGACATACTAGGACCTCTTTCTGCTCAAACTGGAATTGCCGTTTTAGATATGTGTGCTTCATTAAAAGAATTACTGCAAAATGGTATGAATGGACGTACCATATTGGGTAGTGCTTTATTAGAAGATGAATTTACACCTTTTGATGTTGTTAGACAATGCTCAGGTGTTACTTTCCAAAGTGCAGTGAAAAGAACAATCAAGGGTACACACCACTGGTTGTTACTCACAATTTTGACTTCACTTTTAGTTTTAGTCCAGAGTACTCAATGGTCTTTGTTCTTTTTTTTGTATGAAAATGCCTTTTTACCTTTTGCTATGGGT<br><span style='color:blue'>R</span><br>TTATTGCTATGTCTGCTTTTGCAATGATGTTTGTCAAACATAAGCATGCATTTCTCTGTTTGTTTTTGTTACCTTCTCTTGCC<br><span style='color:blue'>G</span><br>CTGTAGCTTATTTTAATATGGTCTATATGCCTGCTAGTTGGGTGATGCGTATTATGACATGGTTGGATATGGTTGATACTAGTTTGTCTGGTTTTAAGCTAAAAGACTGTGTTATGTATGCATCAGCTGT<br><span style='color:red'>A</span><br>G<br><span style='color:green'>G</span><br>TGTTACTAATCCTTATGACAGCAAGAACTGTGTATGATGATGGTGCTAGGAGAGTGTGGACACTTATGAATGTCTTGACACTCGTTTATAAAGTTTATTATGGTAATGCTTTAGATCAAGCCATTTCCATGTGGGCTCTTATAATCTCTGTTACTTCTAACTACTCAGGTGTAGTTACAACTGTCATGTTTTTGGCCAGAGGTATTGTTTTTATGTGTGTTGAGTATTGCCCTATTTTCTTCATAACTGGTAATACACTTCAGTGTATAATGCTAGTTTATTGTTTCTTAGGCTATTTTTGTACTTGTTACTTTGGCCTCTTTTGTTTACTCAACCGCTACTTTAGACTGACTCTTGGTGTTTATGATTACTTAGTTTCTACACAGGAGTTTAGATATATGAATTCACAGGGACTACTCCCACCCAAGAATAGCATAGATGCCTTCAAACTCAACATTAAATTGTTGGGTGTTGGTGGCAAACCTTGTATCAAAGTAGCCACTGTACAGTCTAAAATGTCAGATGTAAAGTGCACATCAGTAGTCTTACTCTCAGTTTTGCAACAACTCAGAGTAGAATCATCATCTAAATTGTGGGCTCAATGTGTCCAGTTACACAATGACATTCTCTTAGCTAAAGATACTACTGAAGCCTTTGAAAAAATGGTTTCACTACTTTCTGTTTTGCTTTCCATGCAGGGTGCTGTAGACATAAACAAGCTTTGTGAAGAAATGCTGGACAACAGGGCAACCTTACAAGCTATAGCCTCAGAGTTTAGTTCCCTTCCATCATATGCAGCTTTTGCTACTGCTCAAGAAGCTTATGAGCAGGCTGTTGCTAATGGTGATTCTGAAGTTGTTCTTAAAAAGTTGAAGAAGTCTTTGAATGTGGCTAAATCTGAATTTGACCGTGATGCAGCCATGCAACGTAAGTTGGAAAAGATGGCTGATCAAGCTATGACCCAAATGTATAAACAGGCTAGATCTGAGGACAAGAGGGCAAAAGTTACTAGTGCTATGCAGACAATGCTTTTCACTATGCTTAGAAAGTTGGATAATGATGCACTCAACAACATTATCAACAATGCAAGAGATGGTTGTGTTCCCTTGAACATAATACCTCTTACAACAGCAGCCAAACTAATGGTTGTCATACCAGACTATAACACATATAAAAATACGTGTGATGGTACAACATTTACTTATGCATCAGCATTGTGGGAAATCCAACAGGTTGTAGATGCAGATAGTAAAATTGTTCAACTTAGTGAAATTAGTATGGACAATTCACCTAATTTAGCATGGCCTCTTATTGTAACAGCTTTAAGGGCCAATTCTGCTGTCAAATTACAGAATAATGAGCTTAGTCCTGTTGCACTACGACAGATGTCTTGTGCTGCCGGTACTACACAAACTGCTTGCACTGATGACAATGCGTTAGCTTACTACAACACAACAAAGGGAGGTAGGTTTGTACTTGCACTGTTATCCGATTTACAGGATTTGAAATGGGCTAGATTCCCTAAGAGTGATGGAACTGGTACTATCTATACAGAACTGGAACCACCTTGTAGGTTTGTTACAGACACACCTAAAGGTCCTAAAGTGAAGTATTTATACTTTATTAAAGGATTAAACAACCTAAATAGAGGTATGGTACTTGGTAGTTTAGCTGCCACAGTACGTCTACAAGCTGGTAATGCAACAGAAGTGCCTGCCAATTCAACTGTATTATCTTTCTGTGCTTTTGCTGTAGATGCTGCTAAAGCTTACAAAGATTATCTAGCTAGTGGGGGACAACCAATCACTAATTGTGTTAAGATGTTGTGTACACACACTGGTACTGGTCAGGCAATAACAGTTACACCGGAAGCCAATATGGATCAAGAATCCTTTGGTGGTGCATCGTGTTGTCTGTACTGCCGTTGCCACATAGATCATCCAAATCCTAAAGGATTTTGTGACTTAAAAGGTAAGTATGTACAAATACCTACAACTTGTGCTAATGACCCTGTGGGTTTTACACTTAAAAACACAGTCTGTACCGTCTGCGGTATGTGGAAAGGTTATGGCTGTAGTTGTGATCAACTCCGCGAACCCATGCTTCAGTCAGCTGATGCACAATCGTTTTTAAACGGGTTTGCGGTGTAAGTGCAGCCCGTCTTACACCGTGCGGCACAGGCACTAGTACTGATGTCGTATACAGGGCTTTTGACATCTACAATGATAAAGTAGCTGGTTTTGCTAAATTCCTAAAAACTAATTGTTGTCGCTTCCAAGAAAAGGACGAAGATGACAATTTAATTGATTCTTACTTTGTAGTTAAGAGACACACTTTCTCTAACTACCAACATGAAGAAACAATTTATAATTTACTTAAGGATTGTCCAGCTGTTGCTAAACATGACTTCTTTAAGTTTAGAATAGACGGTGACATGGTACCACATATATCACGTCAACGTCTTACTAAATACACAATGGCAGACCTCGTCTATGCTTTAAGGCATTTTGATGAAGGTAATTGTGACACATTAAAAGAAATACTTGTCACATACAATTGTTGTGATGATGATTATTTCAATAAAAAGGACTGGTATGATTTTGTAGAAAACCCAGATATATTACGCGTATACGCCAACTTAGGTGAACGTGTACGCCAAGCTTTGTTAAAAACAGTACAATTCTGTGATGCCATGCGAAATGCTGGTATTGTTGGTGTACTGACATTAGATAATCAAGATCTCAATGGTAACTGGTATGATTTCGGTGATTTCATACAAACCACGCCAGGTAGTGGAGTTCCTGTTGTAGATTCTTATTATTCATTGTTAATGCCTATATTAACCTTGACCAGGGCTTTAACTGCAGAGTCACATGTTGACACTGACTTAACAAAGCCTTACATTAAGTGGGATTTGTTAAAATATGACTTCACGGAAGAGAGGTTAAAACTCTTTGACCGTTATTTTAAATATTGGGATCAGACATACCACCCAAATTGTGTTAACTGTTTGGATGACAGATGCATTCTGCATTGTGCAAACTTTAATGTTTTATTCTCTACAGTGTTCCCAC<br><span style='color:red'>C</span><br>T<br><span style='color:green'>T</span><br>ACAAGTTTTGGACCACTAGTGAGAAAAATATTTGTTGATGGTGTTCCATTTGTAGTTTCAACTGGATACCACTTCAGAGAGCTAGGTGTTGTACATAATCAGGATGTAAACTTACATAGCTCTAGACTTAGTTTTAAGGAATTACTTGTGTATGCTGCTGACCCTGCTATGCACGCTGCTTCTGGTAATCTATTACTAGATAAACGCACTACGTGCTTTTCAGTAGCTGCACTTACTAACAATGTTGCTTTTCAAACTGTCAAACCCGGTAATTTTAACAAAGACTTCTATGACTTTGCTGTGTCTAAGGGTTTCTTTAAGGAAGGAAGTTCTGTTGAATTAAAACACTTCTTCTTTGCTCAGGATGGTAATGCTGCTATCAGCGATTATGACTACTATCGTTATAATCTACCAACAATGTGTGATATCAGACAACTACTATTTGTAGTTGAAGTTGTTGATAAGTACTTTGATTGTTACGATGGTGGCTGTATTAATGCTAACCAAGTCATCGTCAACAACCTAGACAAATCAGCTGGTTTTCCATTTAATAAATGGGGTAAGGCTAGACTTTATTATGATTCAATGAGTTATGAGGATCAAGATGCACTTTTCGCATATACAAAACGTAATGTCATCCCTACTATAACTCAAATGAATCTTAAGTATGCCATTAGTGCAAAGAATAGAGCTCGCACCGTAGCTGGTGTCTCTATCTGTAGTACTATGACCAATAGACAGTTTCATCAAAAATTATTGAAATCAATAGCCGCCACTAGAGGAGCTACTGTAGTAATTGGAACAAGCAAATTCTATGGTGGTTGGCACAACATGTTAAAAACTGTTTATAGTGATGTAGAAAACCCTCACCTTATGGGTTGGGATTATCCTAAATGTGATAGAGCCATGCCTAACATGCTTAGAATTATGGCCTCACTTGTTCTTGCTCGCAAACATACAACGTGTTGTAGCTTGTCACACCGTTTCTATAGATTAGCTAATGAGTGTGCTCAAGTATTGAGTGAAATGGTCATGTGTGGC<br><span style='color:green'>A</span><br>G<br><span style='color:red'>G</span><br>TTCACTATATGTTAAACCAGGTGGAACCTCATCAGGAGATGCCACAACTGCTTATGCTAATAGTGTTTTTAACATTTGTCAAGCTGTCACGGCCAATGTTAATGCACTTTTATCTACTGATGGTAACAAAATTGCCGATAAGTATGTCCGCAATTTACAACACAGACTTTATGAGTGTCTCTATAGAAATAGAGATGTTGACACAGACTTTGTGAATGAGTTTTACGCATATTTGCGTAAACATTTCTCAATGATGATACTCTCTGACGATGCTGTTGTGTGTTTCAATAGCACTTATGCATCTCAAGGTCTAGTGGCTAGCATAAAGAACTTTAAGTCAGTTCTTTATTATCAAAACAATGTTTTTATGTCTGAAGCAAAATGTTGGACTGAGACTGACCTTACTAAAGGACCTCATGAATTTTGCTCTCAACATACAATGCTAGTTAAACAGGGTGATGATTATGTGTACCTTCCTTACCCAGATCCATCAAGAATCCTAGGGGCCGGCTGTTTTGTAGATGATATCGTAAAAACAGATGGTACACTTATGATTGAACGGTTCGTGTCTTTAGCTATAGATGCTTACCCACTTACTAAACATCCTAATCAGGAGTATGCTGATGTCTTTCATTTGTACTTACAATACATAAGAAAGCTACATGATGAGTTAACAGGACACATGTTAGACATGTATTCTGTTATGCTTACTAATGATAACACTTCAAGGTATTGGGAACCTGAGTTTTATGAGGCTATGTACACACCGCATACAGTCTTACAGGCTGTTGGGGCTTGTGTTCTTTGCAATTCACAGACTTCATTAAGATGTGGTGCTTGCATACGTAGACCATTCTTATGTTGTAAATGCTGTTACGACCATGTCATATCAACATCACATAAATTAGTCTTGTCTGTTAATCCGTATGTTTGCAATGCTCCAGGTTGTGATGTCACAGATGTGACTCAACTTTACTTAGGAGGTATGAGCTATTATTGTAAATCACATAAAC<br><span style='color:blue'>T</span><br>ACCCATTAGTTTTCCATTGTGTGCTAATGGACAAGTTTTTGGTTTATATAAAAATACATGTGTTGGTAGCGATAATGTTACTGACTTTAATGCAATTGCAACATGTGACTGGACAAATGCTGGTGATTACATTTTAGCTAACACCTGTACTGAAAGACTCAAGCTTTTTGCAGCAGAAACGCTCAAAGCTACTGAGGAGACATTTAAACTGTCTTATGGTATTGCTACTGTACGTGAAGTGCTGTCTGACAGAGAATTACATCTTTCATGGGAAGTTGGTAAACCTAGACCACCACTTAACCGAAATTATGTCTTTACTGGTTATCGTGTAACTAAAAACAGTAAAGTACAAATAGGAGAGTACACCTTTGAAAAAGGTGACTATGGTGATGCTGTTGTTTACCGAGGTACAACAACTTACAAATTAAATGTTGGTGATTATTTTGTGCTGACATCACATACAGTAATGCCATTAAGTGCACCTACACTAGTGCCACAAGAGCACTATGTTAGAATTACTGGCTTATACCCAACACTCAATATCTCAGATGAGTTTTCTAGCAATGTTGCAAATTATCAAAAGGTTGGTATGCAAAAGTATTCTACACTCCAGGGACCACCTGGTACTGGTAAGAGTCATTTTGCTATTGGCCTAGCTCTCTACTACCCTTCTGCTCGCATAGTGTATACAGCTTGCTCTCATGCCGCTGTTGATGCACTATGTGAGAAGGCATTAAAATATTTGCCTATAGATAAATGTAGTAGAATTATACCTGCACGTGCTCGTGTAGAGTGTTTTGATAAATTCAAAGTGAATTCAACATTAGAACAGTATGTCTTTTGTACTGTAAATGCATTGCCTGAGACGACAGCAGATATAGTTGTCTTTGATGAAATTTCAATGGCCACAAATTATGATTTGAGTGTTGTCAATGCCAGATTACGTGCTAAGCACTATGTGTACATTGGCGACCCTGCTCAATTACCTGCACCACGCACATTGCTAACTAAGGGCACACTAGAACCAGAATATTTCAATTCAGTGTGTAGACTTATGAAAACTATAGGTCCAGACATGTTCCTCGGAACTTGTCGGCGTTGTCCTGCTGAAATTGTTGACACTGTGAGTGCTTTGGTTTATGATAATAAGCTTAAAGCACATAAAGACAAATCAGCTCAATGCTTTAAAATGTTTTATAAGGGTGTTATCACGCATGATGTTTCATCTGCAATTAACAGGCCACAAATAGGCGTGGTAAGAGAATTCCTTACACGTAACCCTGCTTGGAGAAAAGCTGTCTTTATTTCACCTTATAATTCACAGAATGCTGTAGCCTCAAAGATTTTGGGACTACCAACTCAAACTGTTGATTCATCACAGGGCTCAGAATATGACTATGTCATATTCACTCAAACCACTGAAACAGCTCACTCTTGTAATGTAAACAGATTTAATGTTGCTATTACCAGAGCAAAAGTAGGCATACTTTGCATAATGTCTGATAGAGACCTTTATGACAAGTTGCAATTTACAAGTCTTGAAATTCCACGTAGGAATGTGGCAACTTTACAAGCTGAAAATGTAACAGGACTCTTTAAAGATTGTAGTAAGGTAATCACTGGGTTACATCCTACACAGGCACCTACACACCTCAGTGTTGACACTAAATTCAAAACTGAAGGTTTATGTGTTGACATACCTGGCATACCTAAGGACATGACCTATAGAAGACTCATCTCTATGATGGGTTTTAAAATGAATTATCAAGTTAATGGTTACCCTAACATGTTTATCACCCGCGAAGAAGCTATAAGACATGTACGTGCATGGATTGGCTTCGATGTCGAGGGGTGTCATGCTACTAGAGAAGCTGTTGGTACCAATTTACCTTTACAGCTAGGTTTTTCTACAGGTGTTAACCTAGTTGCTGTACCTACAGGTTATGTTGATACACCTAATAATACAGATTTTTCCAGAGTTAGTGCTAAACCACCGCCTGGAGATCAATTTAAACACCTCATACCACTTATGTACAAAGGACTTCCTTGGAATGTAGTGCGTATAAAGATTGTACAAATGTTAAGTGACACACTTAAAAATCTCTCTGACAGAGTCGTATTTGTCTTATGGGCACATGGCTTTGAGTTGACATCTATGAAGTATTTTGTGAAAATAGGACCTGAGCGCACCTGTTGTCTATGTGATAGACGTGCCACATGCTTTTCCACTGCTTCAGACACTTATGCCTGTTGGCATCATTCTATTGGATTTGATTACGTCTATAATCCGTTTATGATTGATGTTCAACAATGGGGTTTTACAGGTAACCTACAAAGCAACCATGATCTGTATTGTCAAGTCCATGGTAATGCACATGTAGCTAGTTGTGATGCAATCATGACTAGGTGTCTAGCTGTCCACGAGTGCTTTGTTAAGCGTGTTGACTGGACTATTGAATATCCTATAATTGGTGATGAACTGAAGATTAATGCGGCTTGTAGAAAGGTTCAACACATGGTTGTTAAAGCTGCATTATTAGCAGACAAATTCCCAGTTCTTCACGACATTGGTAACCCTAAAGCTATTAAGTGTGTACCTCAAGCTGATGTAGAATGGAAGTTCTATGATGCACAGCCTTGTAGTGACAAAGCTTATAAAATAGAAGAATTATTCTATTCTTATGCCACACATTCTGACAAATTCACAGATGGTGTATGCCTATTTTGGAATTGCAATGTCGATAGATATCCTG<br><span style='color:red'>C</span><br>T<br><span style='color:green'>T</span><br>AATTCCATTGTTTGTAGATTTGACACTAGAGTGCTATCTAACCTTAACTTGCCTGGTTGTGATGGTGGCAGTTTGTATGTAAATAAACATGCATTCCACACACCAGCTTTTGATAAAAGTGCTTTTGTTAATTTAAAACAATTACCATTTTTCTATTACTCTGACAGTCCATGTGAGTCTCATGGAAAACAAGTAGTGTCAGATATAGATTATGTACCACTAAAGTCTGCTACGTGTATAACACGTTGCAATTTAGGTGGTGCTGTCTGTAGACATCATGCTAATGAGTACAGATTGTATCTCGATGCTTATAACATGATGATCTCAGCTGGCTTTAGCTTGTGGGTTTACAAACAATTTGATACTTATAACCTCTGGAACACTTTTACAAGACTTCAGAGTTTAGAAAATGTGGCTTTTAATGTTGTAAATAAGGGACACTTTGATGGACAACAGGGTGAAGTACCAGTTTCTATCATTAATAACACTGTTTACACAAAAGTTGATGGTGTTGATGTAGAATTGTTTGAAAATAAAACAACATTACCTGTTAATGTAGCATTTGAGCTTTGGGCTAAGCGCAACATTAAACCAGTACCAGAGGTGAAAATACTCAATAATTTGGGTGTGGACATTGCTGCTAATACTGTGATCTGGGACTACAAAAGAGATGCTCCAGCACATATATCTACTATTGGTGTTTGTTCTATGACTGACATAGCCAAGAAACCAACTGAAACGATTTGTGCACCACTCACTGTCTTTTTTGATGGTAGAGTTGATGGTCAAGTAGACTTATTTAGAAATGCCCGTAATGGTGTTCTTATTACAGAAGGTAGTGTTAAAGGTTTACAACCATCTGTAGGTCCCAAACAAGCTAGTCTTAATGGAGTCACATTAATTGGAGAAGCCGTAAAAACACAGTTCAATTATTATAAGAAAGTTGATGGTGTTGTCCAACAATTACCTGAAACTTACTTTACTCAGAGTAGAAATTTACAAGAATTTAAACCCAGGAGTCAAATGGAAATTGATTTCTTAGAATTAGCTATGGATGAATTCATTGAACGGTATAAATTAGAAGGCTATGCCTTCGAACATATCGTTTATGGAGATTTTAGTCATAGTCAGTTAGGTGGTTTACATCTACTGATTGGACTAGCTAAACGTTTTAAGGAATCACCTTTTGAATTAGAAGATTTTATTCCTATGGACAGTACAGTTAAAAACTATTTCATAACAGATGCGCAAACAGGTTCATCTAAGTGTGTGTGTTCTGTTATTGATTTATTACTTGATGATTTTGTTGAAATAATAAAATCCCAAGATTTATCTGTAGTTTCTAAGGTTGTCAAAGTGACTATTGACTATACAGAAATTTCATTTATGCTTTGGTGTAAAGATGGCCATGTAGAAACATTTTACCCAAAATTACAATCTAGTCAAGCGTGGCAACCGGGTGTTGCTATGCCTAATCTTTACAAAATGCAAAGAATGCTATTAGAAAAGTGTGACCTTCAAAATTATGGTGATAGTGCAACATTACCTAAAGGCATAATGATGAATGTCGCAAAATATACTCAACTGTGTCAATATTTAAACACATTAACATTAGCTGTACCCTATAATATGAGAGTTATACATTTTGGTGCTGGTTCTGATAAAGGAGTTGCACCAGGTACAGCTGTTTTAAGACAGTGGTTGCCTACGGGTACGCTGCTTGTCGATTCAGATCTTAATGACTTTGTCTCTGATGCAGATTCAACTTTGATTGGTGATTGTGCAACTGTACATACAGCTAATAAATGGGATCTCATTATTAGTGATATGTACGACCCTAAGACTAAAAATGTTACAAAAGAAAATGACTCTAAAGAGGGTTTTTTCACTTACATTTGTGGGTTTATACAACAAAAGCTAGCTCTTGGAGGTTCCGTGGCTATAAAGATAACAGAACATTCTTGGAATGCTGATCTTTATAAGCTCATGGGACACTTCGCATGGTGGACAGCCTTTGTTACTAATGTGAATGCGTCATCATCTGAAGCATTTTTAATTGGATGTAATTATCTTGGCAAACCACGCGAACAAATAGATGGTTATGTCATGCATGCAAATTACATATTTTGGAGGAATACAAATCCAATTCAGTTGTCTTCCTATTCTTTATTTGACATGAGTAAATTTCCCCTTAAATTAAGGGGTACTGCTGTTATGTCTTTAAAAGAAGGTCAAATCAATGATATGATTTTATCTCTTCTTAGTAAAGGTAGACTTATAATTAGAGAAAACAACAGAGTTGTTATTTCTAGTGATGTTCTTGTTAACAACTAAACGAACAATGTTTGTTTTTCTTGTTTTATTGCCACTAGTCTCTAGTCAGTGTGTTAATCTTA<br><span style='color:blue'>G</span><br>AACCAGAACTCAATTACCCCCTGCATACACTAATTCTTTCACACGTGGTGTTTATTACCCTGACAAAGTTTTCAGATCCTCAGTTTTACATTCAACTCAGGACTTGTTCTTACCTTTCTTTTCCAATGTTACTTGGTTCCATGCTATACATGTCTCTGGGACCAATGGTACTAAGAGGTTTGATAACCCTGTCCTACCATTTAATGATGGTGTTTATTTTGCTTCCACTGAGAAGTCTAACATAATAAGAGGCTGGATTTTTGGTACTACTTTAGATTCGAAGACCCAGTCCCTACTTATTGTTAATAACGCTACTAATGTTGTTATTAAAGTCTGTGAATTTCAATTTTGTAATGATCCATTTTTGG<br><span style='color:blue'>A</span><br>TGTTTATTACCACAAAAACAACAAAAGTTGGATGGAAAGTG<br><span style='color:red'>A</span><br>G<br><span style='color:red'>TTC</span><br>AG<br><span style='color:red'>AG</span><br>TTTATTCTAGTGCGAATAATTGCACTTTTGAATATGTCTCTCAGCCTTTTCTTATGGACCTTGAAGGAAAACAGGGTAATTTCAAAAATCTTAGGGAATTTGTGTTTAAGAATATTGATGGTTATTTTAAAATATATTCTAAGCACACGCCTATTAATTTAGTGCGTGATCTCCCTCAGGGTTTTTCGGCTTTAGAACCATTGGTAGATTTGCCAATAGGTATTAACATCACTAGGTTTCAAACTTTACTTGCTTTACATAGAAGTTATTTGACTCCTGGTGATTCTTCTTCAGGTTGGACAGCTGGTGCTGCAGCTTATTATGTGGGTTATCTTCAACCTAGGACTTTTCTATTAAAATATAATGAAAATGGAACCATTACAGATGCTGTAGACTGTGCACTTGACCCTCTCTCAGAAACAAAGTGTACGTTGAAATCCTTCACTGTAGAAAAAGGAATCTATCAAACTTCTAACTTTAGAGTCCAACCAACAGAATCTATTGTTAGATTTCCTAATATTACAAACTTGTGCCCTTTTGGTGAAGTTTTTAACGCCACCAGATTTGCATCTGTTTATGCTTGGAACAGGAAGAGAATCAGCAACTGTGTTGCTGATTATTCTGTCCTATATAATTCCGCATCATTTTCCACTTTTAAGTGTTATGGAGTGTCTCCTACTAAATTAAATGATCTCTGCTTTACTAATGTCTATGCAGATTCATTTGTAATTAGAGGTGATGAAGTCAGACAAATCGCTCCAGGGCAAACTGGAAAGATTGCTGATTATAATTATAAATTACCAGATGATTTTACAGGCTGCGTTATAGCTTGGAATTCTAACAATCTTGATTCTAAGGTTGGTGGTAATTATAATTACC<br><span style='color:red'>T</span><br>G<br><span style='color:green'>G</span><br>TATAGATTGTTTAGGAAGTCTAATCTCAAACCTTTTGAGAGAGATATTTCAACTGAAATCTATCAGGCCGGTAGCA<br><span style='color:red'>C</span><br>A<br><span style='color:green'>A</span><br>CCTTGTAATGGTGTTGAAGGTTTTAATTGTTACTTTCCTTTACAATCATATGGTTTCCAACCCACTAATGGTGTTGGTTACCAACCATACAGAGTAGTAGTACTTTCTTTTGAACTTCTACATGCACCAGCAACTGTTTGTGGACCTAAAAAGTCTACTAATTTGGTTAAAAACAAATGTGTCAATTTCAACTTCAATGGTTTAACAGGCACAGGTGTTCTTACTGAGTCTAACAAAAAGTTTCTGCCTTTCCAACAATTTGGCAGAGACATTGCTGACACTACTGATGCTGTCCGTGATCCACAGACACTTGAGATTCTTGACATTACACCATGTTCTTTTGGTGGTGTCAGTGTTATAACACCAGGAACAAATACTTCTAACCAGGTTGCTGTTCTTTATCAGG<br><span style='color:blue'>G</span><br>TGTTAACTGCACAGAAGTCCCTGTTGCTATTCATGCAGATCAACTTACTCCTACTTGGCGTGTTTATTCTACAGGTTCTAATGTTTTTCAAACACGTGCAGGCTGTTTAATAGGGGCTGAACATGTCAACAACTCATATGAGTGTGACATACCCATTGGTGCAGGTATATGCGCTAGTTATCAGACTCAGACTAATTCTC<br><span style='color:blue'>G</span><br>TCGGCGGGCACGTAGTGTAGCTAGTCAATCCATCATTGCCTACACTATGTCACTTGGTGCAGAAAATTCAGTTGCTTACTCTAATAACTCTATTGCCATACCCACAAATTTTACTATTAGTGTTACCACAGAAATTCTACCAGTGTCTATGACCAAGACATCAGTAGATTGTACAATGTACATTTGTGGTGATTCAACTGAATGCAGCAATCTTTTGTTGCAATATGGCAGTTTTTGTACACAATTAAACCGTGCTTTAACTGGAATAGCTGTTGAACAAGACAAAAACACCCAAGAAGTTTTTGCACAAGTCAAACAAATTTACAAAACACCACCAATTAAAGATTTTGGTGGTTTTAATTTTTCACAAATATTACCAGATCCATCAAAACCAAGCAAGAGGTCATTTATTGAAGATCTACTTTTCAACAAAGTGACACTTGCAGATGCTGGCTTCATCAAACAATATGGTGATTGCCTTGGTGATATTGCTGCTAGAGACCTCATTTGTGCACAAAAGTTTAACGGCCTTACTGTTTTGCCACCTTTGCTCACAGATGAAATGATTGCTCAATACACTTCTGCACTGTTAGCGGGTACAATCACTTCTGGTTGGACCTTTGGTGCAGGTGCTGCATTACAAATACCATTTGCTATGCAAATGGCTTATAGGTTTAATGGTATTGGAGTTACACAGAATGTTCTCTATGAGAACCAAAAATTGATTGCCAACCAATTTAATAGTGCTATTGGCAAAATTCAAGACTCACTTTCTTCCACAGCAAGTGCACTTGGAAAACTTCAA<br><span style='color:red'>G</span><br>A<br><span style='color:green'>A</span><br>TGTGGTCAACCAAAATGCACAAGCTTTAAACACGCTTGTTAAACAACTTAGCTCCAATTTTGGTGCAATTTCAAGTGTTTTAAATGATATCCTTTCACGTCTTGACAAAGTTGAGGCTGAAGTGCAAATTGATAGGTTGATCACAGGCAGACTTCAAAGTTTGCAGACATATGTGACTCAACAATTAATTAGAGCTGCAGAAATCAGAGCTTCTGCTAATCTTGCTGCTACTAAAATGTCAGAGTGTGTACTTGGACAATCAAAAAGAGTTGATTTTTGTGGAAAGGGCTATCATCTTATGTCCTTCCCTCAGTCAGCACCTCATGGTGTAGTCTTCTTGCATGTGACTTATGTCCCTGCACAAGAAAAGAACTTCACAACTGCTCCTGCCATTTGTCATGATGGAAAAGCACACTTTCCTCGTGAAGGTGTCTTTGTTTCAAATGGCACACACTGGTTTGTAACACAAAGGAATTTTTATGAACCACAAATCATTACTACAGACAACACATTTGTGTCTGGTAACTGTGATGTTGTAATAGGAATTGTCAACAACACAGTTTATGATCCTTTGCAACCTGAATTAGACTCATTCAAGGAGGAGTTAGATAAATATTTTAAGAATCATACATCACCAGATGTTGATTTAGGTGACATCTCTGGCATTAATGCTTCA<br><span style='color:red'>G</span><br>TT<br><span style='color:green'>T</span><br>GTAAACATTCAAAAAGAAATTGACCGCCTCAATGAGGTTGCCAAGAATTTAAATGAATCTCTCATCGATCTCCAAGAACTTGGAAAGTATGAGCAGTATATAAAATGGCCATGGTACATTTGGCTAGGTTTTATAGCTGGCTTGATTGCCATAGTAATGGTGACAATTATGCTTTGCTGTATGACCAGTTGCTGTAGTTGTCTCAAGGGCTGTTGTTCTTGTGGATCCTGCTGCAAATTTGATGAAGACGACTCTGAGCCA<br><span style='color:red'>G</span><br>T<br><span style='color:green'>T</span><br>GCTCAAAGGAGTCAAATTACATTACACATAAACGAACTTATGGATTTGTTTATGAGAATCTTCACAATTGGAACTGTAACTTTGAAGCAAGGTGAAATCAAGGATGCTACTCCTT<br><span style='color:blue'>T</span><br>AGATTTTGTTCGCGCTACTGCAACGATACCGATACAAGCCTCACTCCCTTTCGGATGGCTTATTGTTGGCGTTGCACTTCTTGCTGTTTTTCAGAGCGCTTCCAAAATCATAACCCTCAAAAAGAGATGGCAACTAGCACTCTCCAAGGGTGTTCACTTTGTTTGCAACTTGCTGTTGTTGTTTGTAACAGTTTACTCACACCTTTTGCTCGTTGCTGCTGGCCTTGAAGCCCCTTTTCTCTATCTTTATGCTTTAGTCTACTTCTTGCAGAGTATAAACTTTGTAAGAATAATAATGAGGCTTTGGCTTTGCTGGAAATGCCGTTCCAAAAACCCATTACTTTATGATGCCAACTATTTTCTTTGCTGGCATACTAATTGTTACGACTATTGTATACCTTACAATAGTGTAACTTCTTCAATTGTCATTACTTCAGGTGATGGCACAACAAGTCCTATTTCTGAACATGACTACCAGATTGGTGGTTATACTGAAAAATGGGAATCTGGAGTAAAAGACTGTGTTGTATTACACAGTTACTTCACTTCAGACTATTACCAGCTGTACTCAACTCAATTGAGTACAGACACTGGTGTTGAACATGTTACCTTCTTCATCTACAATAAAATTGTTGATGAGCCTGAAGAACATGTCCAAATTCACACAATCGACGGTTCATCCGGAGTTGTTAATCCAGTAATGGAACCAATTTATGATGAACCGACGACGACTACTAGCGTGCCTTTGTAAGCACAAGCTGATGAGTACGAACTTATGTACTCATTCGTTTCGGAAGAGACAGGTACGTTAATAGTTAATAGCGTACTTCTTTTTCTTGCTTTCGTGGTATTCTTGCTAGTTACACTAGCCATCCTTACTGCGCTTCGATTGTGTGCGTACTGCTGCAATATTGTTAACGTGAGTCTTGTAAAACCTTCTTTTTACGTTTACTC<br><span style='color:red'>T</span><br>C<br><span style='color:green'>C</span><br>GTGTTAAAAATCTGAATTCTTCTAGAGTTCCTGATCTTCTGGTCTAAACGAACTAAATATTATATTAGTTTTTCTGTTTGGAACTTTAATTTTAGCCATGGCAGATTCCAACGGTACTATTACCGTTGAAGAGCTTAAAAAGCTCCTTGAACAATGGAACCTAGTAATAGGTTTCCTATTCCTTACATGGATTTGTCTTCTACAATTTGCCTATGCCAACAGGAATAGGTTTTTGTATATAATTAAGTTAATTTTCCTCTGGCTGTTATGGCCAGTAACTTTAGCTTGTTTTGTGCTTGCTGCTGTTTACAGAATAAATTGGATCACCGGTGGAATTGCTA<br><span style='color:red'>T</span><br>C<br><span style='color:green'>C</span><br>GCAATGGCTTGTCTTGTAGGCTTGATGTGGCTCAGCTACTTCATTGCTTCTTTCAGACTGTTTGCGCGTACGCGTTCCATGTGGTCATTCAATCCAGAAACTAACATTCTTCTCAACGTGCCACTCCATGGCACTATTCTGACCAGACCGCTTCTAGAAAGTGAACTCGTAATCGGAGCTGTGATCCTTCGTGGACATCTTCGTATTGCTGGACACCATCTAGGACGCTGTGACATCAAGGACCTGCCTAAAGAAATCACTGTTGCTACATCACGAACGCTTTCTTATTACAAATTGGGAGCTTCGCAGCGTGTAGCAGGTGACTCAGGTTTTGCTGCATACAGTCGCTACAGGATTGGCAACTATAAATTAAACACAGACCATTCCAGTAGCAGTGACAATATTGCTTTGCTTGTACAGTAAGTGACAACAGATGTTTCATCTCGTTGACTTTCAGGTTACTATAGCAGAGATATTACTAATTATTATGAGGACTTTTAAAGTTTCCATTTGGAATCTTGATTACATCATAAACCTCATAATTAAAAATTTATCTAAGTCACTAACTGAGAATAAATATTCTCAATTAGATGAAGAGCAACCAATGGAGATTGATTAAACGAACATGAAAATTATTCTTTTCTTGGCACTGATAACACTCGCTACTTGTGAGCTTTATCACTACCAAGAGTGTGTTAGAGGTACAACAGTACTTTTAAAAGAACCTTGCTCTTCTGGAACATACGAGGGCAATTCAC<br><span style='color:blue'>T</span><br>ATTTCATCCTCTAGCTGATAACAAATTTGCACTGACTTGCTTTAGCACTCAATTTGCTTTTGCTTGTCCTGACGGCGTAAAACACGTCTATCAGTTACGTGCCAGATCAG<br><span style='color:green'>C</span><br>TT<br><span style='color:red'>T</span><br>CACCTAAACTGTTCATCAGACAAGAGGAAGTTCAAGAACTTTACTCTCCAATTTTTCTTATTGTTGCGGCAATAGTGTTTATAACACTTTGCTTCACACTCAAAAGAAAGA<br><span style='color:blue'>T</span><br>AGAATGATTGAACTTTCATTAATTGACTTCTATTTGTGCTTTTTAGCCTTTCTGCTATTCCTTGTTTTAATTATGCTTATTATCTTTTGGTTCTCACTTGAACTGCAAGATCATAATGAAA<br><span style='color:red'>C</span><br>TT<br><span style='color:green'>T</span><br>GTCACGCCTAAACGAACATGAAATTTCTTGTTTTCTTAGGAATCATCACAACTGTAGCTGCATTTCACCAAGAATGTAGTTTACAGTCATGTACTCAACATCAACCATATGTAGTTGATGACCCGTGTCCTATTCACTTCTATTCTAAATGGTATATTAGAGTAGGAGCTAGAAAATCAGCACCTTTAATTGAATTGTGCGTGGATGAGGCTGGTTCTAAATCACCCATTCAGTACATCGATATCGGTAATTATACAGTTTCCTGTTTACCTTTTACAATTAATTGCCAGGAACCTAAATTGGGTAGTCTTGTAGTGCGTTGTTCGTTCTATGAAGACTTTTTAGAGTATCATGACGTTCGTGTTGTTTTA<br><span style='color:red'>G</span><br>AT<br><span style='color:red'>TT</span><br>C<br><span style='color:red'>A</span><br>T<br><span style='color:red'>CT</span><br>AAACGAACAAACTAAA<br><span style='color:red'>A</span><br>TGTCTGATAATGGACCCCAAAATCAGCGAAATGCACCCCGCATTACGTTTGGTGGACCCTCAGATTCAACTGGCAGTAACCAGAATGGAGAACGCAGTGGGGCGCGATCAAAACAACGTCGGCCCCAAGGTTTACCCAATAATACTGCGTCTTGGTTCACCGCTCTCACTCAACATGGCAAGGAAG<br><span style='color:blue'>G</span><br>CCTTAAATTCCCTCGAGGACAAGGCGTTCCAATTAACACCAATAGCAGTCCAGATGACCAAATTGGCTACTACCGAAGAGCTACCAGACGAATTCGTGGTGGTGACGGTAAAATGAAAGATCTCAGTCCAAGATGGTATTTCTACTACCTAGGAACTGGGCCAGAAGCTGGACTTCCCTATGGTGCTAACAAAGACGGCATCATATGGGTTGCAACTGAGGGAGCCTTGAATACACCAAAAGATCACATTGGCACCCGCAATCCTGCTAACAATGCTGCAATCGTGCTACAACTTCCTCAAGGAACAACATTGCCAAAAGGCTTCTACGCAGAAGGGAGCAGAGGCGGCAGTCAAGCCTCTTCTCGTTCCTCATCACGTAGTCGCAACAGTTCAAGAAATTCAACTCCAGGCAGCAGTA<br><span style='color:green'>T</span><br>GGG<br><span style='color:red'>G</span><br>AACTTCTCCTGCTAGAATGGCTGGCAATGGC<br><span style='color:green'>T</span><br>G<br><span style='color:red'>G</span><br>TGATGCTGCTCTTGCTTTGCTGCTGCTTGACAGATTGAACCAGCTTGAGAGCAAAATGTCTGGTAAAGGCCAACAACAACAAGGCCAAACTGTCACTAAGAAATCTGCTGCTGAGGCTTCTAAGAAGCCTCGGCAAAAACGTACTGCCACTAAAGCATACAATGTAACACAAGCTTTCGGCAGACGTGGTCCAGAACAAACCCAAGGAAATTTTGGGGACCAGGAACTAATCAGACAAGGAACTGATTACAAACATTGGCCGCAAATTGCACAATTTGCCCCCAGCGCTTCAGCGTTCTTCGGAATGTCGCGCATTGGCATGGAAGTCACACCTTCGGGAACGTGGTTGACCTACACAGGTGCCATCAAATTGGATGACAAAGATCCAAATTTCAAAGATCAAGTCATTTTGCTGAATAAGCATATTGACGCATACAAAACATTCCCACCAACAGAGCCTAAAAAGGACAAAAAGAAGAAGGCT<br><span style='color:blue'>T</span><br>ATGAAACTCAAGCCTTACCGCAGAGACAGAAGAAACAGCAAACTGTGACTCTTCTTCCTGCTGCAGATTTGGATGATTTCTCCAAACAATTGCAACAATCCATGAGCAGTGCTGACTCAACTCAGGCCTAAACTCATGCAGACCACACAAGGCAGATGGGCTATATAAACGTTTTCGCTTTTCCGTTTACGATATATAGTCTACTCTTGTGCAGAATGAATTCTCGTAACTACATAGCACAAGTAGATGTAGTTAACTTTAATCTCACATAGCAATCTTTAATCAGTGTGTAACATTAGGGAGGACTTGAAAGAGCCACCACATTTTCACCGAGGCCAC<br><span style='color:blue'>T</span><br>CGGAGTACGATCGAGTGTACAGTGAACAATGCTAGGGAGAGCTGCCTATATGGAAGAGCCCTAATGTGTAAAATTAATTTTAGTAGTGCTATCCCCATGTGATTTTAATAGCTTCTTAGGAGAATGACA"
      ],
      "text/plain": [
       "<IPython.core.display.HTML object>"
      ]
     },
     "metadata": {},
     "output_type": "display_data"
    }
   ],
   "source": [
    "display(HTML('<br>'.join(display_seq)))"
   ]
  },
  {
   "cell_type": "markdown",
   "id": "95fa2c6e",
   "metadata": {},
   "source": [
    "### Conclusion:"
   ]
  },
  {
   "cell_type": "markdown",
   "id": "65e55552",
   "metadata": {},
   "source": [
    "**With this output, the complete sequence is visible.**\n",
    "\n",
    "1) <span style=\"color:black\">Black </span>indicates alignment between the sequences.\n",
    "\n",
    "2) <span style=\"color:red\">Red </span>signifies deletions, indicating that a portion of the original sequence was removed. In this instance, the delta variant deleted the reference sequence.\n",
    "\n",
    "3) <span style=\"color:green\">Green </span>highlights insertions made by the delta variant. \n",
    "\n",
    "4) <span style=\"color:blue\">Blue </span>denotes substitutions. \n",
    "\n",
    "These visual cues precisely indicate the locations of these events.\n"
   ]
  },
  {
   "cell_type": "markdown",
   "id": "1e28a1ec",
   "metadata": {},
   "source": [
    "Mutation in the RNA sequence of SARS-CoV-2 variants can result in changes to the virus's genetic code, leading to alterations in its properties.\n",
    "\n",
    "1. **Deletion:**\n",
    "   - Description: Deletion mutations involve the removal of one or more nucleotides from the RNA sequence. This can result in a shorter genetic code, potentially leading to the loss of specific functions or features encoded by the deleted segment.\n",
    "   - Impact: Depending on the location and size of the deletion, it may affect crucial viral components, such as spike proteins or replication machinery. Deletions can impact the virus's ability to infect host cells or evade the host immune response.\n",
    "\n",
    "2. **Substitution:**\n",
    "   - Description: Substitution mutations occur when one or more nucleotides are replaced by different ones in the RNA sequence. This can lead to the substitution of one amino acid for another during protein synthesis.\n",
    "   - Impact: Substitutions can influence the virus's structure and function, potentially altering its ability to interact with host cells or evade immune surveillance. Substitutions in key regions, such as the receptor-binding domain of the spike protein, may affect viral infectivity or immune recognition.\n",
    "\n",
    "3. **Insertion:**\n",
    "   - Description: Insertion mutations involve the addition of extra nucleotides into the RNA sequence. This can result in an elongated genetic code, potentially leading to the introduction of new functions or features.\n",
    "   - Impact: Depending on the location and nature of the insertion, it can have diverse effects on viral properties. Insertions may contribute to changes in viral tropism, antigenicity, or replication efficiency. They can also impact the virus-host interaction by introducing novel elements into critical regions.\n",
    "\n",
    "Understanding these mutation types is crucial for monitoring the evolution of SARS-CoV-2 variants and assessing their potential impact on transmission, severity of disease, and vaccine efficacy. Continuous genomic surveillance and analysis are essential to stay ahead of the virus's adaptive changes and inform public health strategies."
   ]
  }
 ],
 "metadata": {
  "kernelspec": {
   "display_name": "Python 3 (ipykernel)",
   "language": "python",
   "name": "python3"
  },
  "language_info": {
   "codemirror_mode": {
    "name": "ipython",
    "version": 3
   },
   "file_extension": ".py",
   "mimetype": "text/x-python",
   "name": "python",
   "nbconvert_exporter": "python",
   "pygments_lexer": "ipython3",
   "version": "3.11.8"
  },
  "widgets": {
   "application/vnd.jupyter.widget-state+json": {
    "state": {},
    "version_major": 2,
    "version_minor": 0
   }
  }
 },
 "nbformat": 4,
 "nbformat_minor": 5
}
